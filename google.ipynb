{
 "cells": [
  {
   "cell_type": "code",
   "execution_count": 15,
   "metadata": {},
   "outputs": [],
   "source": [
    "def solution(i):\n",
    "    error_status = 0\n",
    "    try:\n",
    "        index = int(i)\n",
    "    except ValueError:\n",
    "        error_status = 1\n",
    "    if (error_status == 1 or i<0 or i > 10000):\n",
    "        print(\"invalid number\")\n",
    "    else:\n",
    "        k = \"\"\n",
    "        for num in range(2,1000000):\n",
    "            if all(num%i!=0 for i in range(2,num)):\n",
    "                k = k + str(num)\n",
    "                # # print(len(k))\n",
    "                if(len(k)>10004 or len(k)> i + 4):\n",
    "                    break\n",
    "        # print(k)\n",
    "        # print(len(k))\n",
    "        id = k[i:i+5]\n",
    "        return id\n",
    "\n",
    "# pp = solution(10000)\n",
    "# print(pp)"
   ]
  },
  {
   "cell_type": "code",
   "execution_count": 16,
   "metadata": {},
   "outputs": [
    {
     "name": "stdout",
     "output_type": "stream",
     "text": [
      "94311\n"
     ]
    }
   ],
   "source": [
    "def solution(l):\n",
    "        if (any(y > 9 for y in l)):\n",
    "            return 0\n",
    "        if (any(y < 0 for y in l)):\n",
    "            return 0\n",
    "        elif (sum(l)%3 ==0):\n",
    "            count = [0 for x in range(10)]\n",
    "            string = ''.join([str(x) for x in l])\n",
    "            for i in range(len(string)):\n",
    "                count[int(string[i])] = count[int(string[i])] +  1\n",
    "            result = 0\n",
    "            multiplier = 1\n",
    "            for i in range(10):\n",
    "                while count[i] > 0:\n",
    "                    result = result + ( i * multiplier )\n",
    "                    count[i] = count[i] - 1\n",
    "                    multiplier = multiplier * 10\n",
    "            return result\n",
    "        else:\n",
    "            Temp_list = []\n",
    "            k =l\n",
    "            for x in l:\n",
    "                k = list(filter(lambda pp: (pp != x), l))\n",
    "                if (solution(k)%3==0 ):\n",
    "                    Temp_list.append(solution(k))                \n",
    "            return max(Temp_list)\n",
    "\n",
    "k = solution([3, 1, 4, 1, 5, 9])\n",
    "print(k)"
   ]
  },
  {
   "cell_type": "code",
   "execution_count": 17,
   "metadata": {},
   "outputs": [
    {
     "name": "stdout",
     "output_type": "stream",
     "text": [
      "True\n",
      "True\n"
     ]
    }
   ],
   "source": [
    "l = [3, 10, -1, 1, 5, 9]\n",
    "m = (any(y > 9 for y in l))\n",
    "\n",
    "n = (any(y < 0 for y in l))\n",
    "print(m)\n",
    "print(n)"
   ]
  }
 ],
 "metadata": {
  "kernelspec": {
   "display_name": "Python 3.10.7 64-bit",
   "language": "python",
   "name": "python3"
  },
  "language_info": {
   "codemirror_mode": {
    "name": "ipython",
    "version": 3
   },
   "file_extension": ".py",
   "mimetype": "text/x-python",
   "name": "python",
   "nbconvert_exporter": "python",
   "pygments_lexer": "ipython3",
   "version": "3.10.7"
  },
  "orig_nbformat": 4,
  "vscode": {
   "interpreter": {
    "hash": "916dbcbb3f70747c44a77c7bcd40155683ae19c65e1c03b4aa3499c5328201f1"
   }
  }
 },
 "nbformat": 4,
 "nbformat_minor": 2
}

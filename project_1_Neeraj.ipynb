{
  "cells": [
    {
      "cell_type": "markdown",
      "metadata": {
        "id": "cTCAgJVuZKaG"
      },
      "source": [
        "# Project 1: Multiclass Classification on EUROSAT"
      ]
    },
    {
      "cell_type": "markdown",
      "metadata": {
        "id": "lp-jWoOdZKaX"
      },
      "source": [
        "Welcome to your first project *Multiclass Classification on EUROSAT*! This notebook will guide you through elementary steps that need to be taken in many machine learning projects."
      ]
    },
    {
      "cell_type": "markdown",
      "metadata": {
        "id": "8SAlEdQNZKaa"
      },
      "source": [
        "Submissions for Project 1 are due on **November 20th** via your group's folder in Stud.IP (please find more details towards the end of this notebook)."
      ]
    },
    {
      "cell_type": "markdown",
      "metadata": {
        "id": "gk5TvecFZKah"
      },
      "source": [
        "1. Execute the following code to import required packages."
      ]
    },
    {
      "cell_type": "code",
      "execution_count": 1,
      "metadata": {
        "id": "HmDfjyX-ZKak"
      },
      "outputs": [],
      "source": [
        "import matplotlib.pyplot as plt\n",
        "import matplotlib.colors as mcolors\n",
        "import numpy as np\n",
        "import pandas as pd\n",
        "import seaborn as sns\n",
        "import tensorflow as tf\n",
        "import tensorflow_datasets as tfds\n",
        "#from tensorflow.keras.callbacks import LearningRateScheduler\n",
        "\n",
        "from tensorflow import keras"
      ]
    },
    {
      "cell_type": "markdown",
      "metadata": {
        "id": "XX1zBC0IZKat"
      },
      "source": [
        "## 1.1 Before Training"
      ]
    },
    {
      "cell_type": "markdown",
      "metadata": {
        "id": "cNifzYBXZKav"
      },
      "source": [
        "### Loading the data\n",
        "\n",
        "2. Load the dataset ```EUROSAT``` in the version ```2.0.0```. To that end, call the function ```tfds.load``` only once and such that it returns a list ```[train_ds, val_ds, test_ds]``` as well as an object ```info``` of type ```tfds.core.DatasetInfo```. As a result, ```train_ds``` shall contain the first ```80%``` of the training split, ```val_ds``` shall contain the next ```10%``` of the training split, and ```test_ds``` shall contain the last ```10%``` of the training split of ```EUROSAT```.\n",
        "\n",
        "Useful information can be found under https://www.tensorflow.org/datasets/catalog/eurosat and https://www.tensorflow.org/datasets/overview."
      ]
    },
    {
      "cell_type": "code",
      "execution_count": 2,
      "metadata": {
        "colab": {
          "base_uri": "https://localhost:8080/",
          "height": 148,
          "referenced_widgets": [
            "36b1dad106934670aacea20c690c6d2c",
            "b9597c04f654466cb3f3fa849bc6e24a",
            "e1b1e8440356436f974944562e32ca5e",
            "0b211edc470e4a36aca8cc5824b534bc",
            "20298eb2561941aba21d691ec09f5c24",
            "bf9dc0167f89472e8d1fa47c29ef9645",
            "6c7bf7b58a544a7cb52be52ade9f844a",
            "29256f7f41084c0c872d6648cc1709c0",
            "86238c0849bf4a148618bd91829d182a",
            "09817ad3c8b14c7f909656da36643d25",
            "051bbc8aa692493283d40885f81b3bba",
            "8d639fffe937462c9f666056bf4e597d",
            "e03cec48856a4afdbf05840d797195be",
            "f08afe339a5b43729d9eee8588ce0d65",
            "a9a9693d2fd4488d86101e3ad935efce",
            "d3d2a89f84f74c1ab10f9bfb2f27eed7",
            "2bfee93d31be42b8a80e35c05905f7e7",
            "c25057542cd948068ee7816e8800572d",
            "d6fa3d85c04d485da2193d71ac9f8d71",
            "e57de4407e3145e8b18c8da26a02fd10",
            "2ef59866783f4c728ed56b2ee5287f26",
            "6ca4a94201614353abd488639fb8dbe0",
            "8c3ba80e16624b8f9fdf662155ceb0ee",
            "fd67aae2c89a4d6e97e255c108d4cd70",
            "d5f09449e2f249e39cc8df83c3b8fadb",
            "0e4f1e31197e4a289e5d7e7d6513626c",
            "435afe51b620426dbe513f647d3be936",
            "b686bb8c87e64ef591705c4376e3efcc",
            "a4845b6a31af47b5be8d24810e601b37",
            "b5371f09807f453f91532e217b43753f",
            "83d2ac7ee17f4b259f923c0208738b39",
            "c40203271eba49de96e5ef57152b91ef",
            "e203a7848da748fda57de8fb897a1874",
            "e4873ac77d924d3eb98baf44c9d93ab0",
            "0dc2f2f81627472eabce975f261426f3",
            "7b5b58916baa4722a74f512fa7aa2006",
            "f2f672899f7240649e42cb50c36a8db9",
            "bfd2e26ed50043baba519473809fc0f8",
            "f75eaf66a8d94975bdc3efb5007dd5f2",
            "7bc06fe6e915447f83b3168f46116285",
            "df04855e552b40e491a3020d14ce8dab",
            "5bc83d600ec940aaa2049d36a34dd1e3",
            "74abf9d7858b46b9afdc14d6ef2777f5",
            "61cba1817a70473ba0ee7fd0cfc7d3da",
            "cfb560fb5725497e87becf5af01c43c7",
            "a090d371617b40f58d95724c7afa24e2",
            "0688a81fbbf04cec9f8db8eef3c99d45",
            "3ac4dd2deb1a4815b305e2998dd91afd",
            "158c7ba61cc54b6fb6369321d579d86f",
            "ba2b8e281e7c49ac8872390aaabfe0d9",
            "8eb27ff5a79243179be05ff0317cba83",
            "f6ceb1675c75479c8619af4b7a993b59",
            "235af91f32464917b41adba6a28010c4",
            "e8e1f98bc15349109c8b357dbed3dbd8",
            "f2918b5e92884c3da4152e7197af9196",
            "52e908b08fa0442ab743e27451201c45",
            "f139e79414454efca49ceb37401b0566",
            "9f0b3dde802648cb9da948d1f0ba801f",
            "007362bb733846368e421e1440558e09",
            "12ab0a0e25904e378edff1f0cb7c2de6",
            "ad91b011311d4a93a681523ccdae7538",
            "42ccc9322e344550ac83c202de436c56",
            "30e87881246c42938a22642b80c265ab",
            "4da7a25ffde04086b3e839d8b16605e8",
            "e8d5d1a34f2b4a04a8d1ba4a866cdf5f",
            "7622988e86f245f5a0daa0ad7a940cd0"
          ]
        },
        "id": "BveOM76qZKaz",
        "outputId": "99f2fd10-0cf5-49ba-fef7-27dc43e1cb88",
        "scrolled": false
      },
      "outputs": [
        {
          "name": "stdout",
          "output_type": "stream",
          "text": [
            "Downloading and preparing dataset 89.91 MiB (download: 89.91 MiB, generated: Unknown size, total: 89.91 MiB) to ~/tensorflow_datasets/eurosat/rgb/2.0.0...\n"
          ]
        },
        {
          "data": {
            "application/vnd.jupyter.widget-view+json": {
              "model_id": "36b1dad106934670aacea20c690c6d2c",
              "version_major": 2,
              "version_minor": 0
            },
            "text/plain": [
              "Dl Completed...: 0 url [00:00, ? url/s]"
            ]
          },
          "metadata": {},
          "output_type": "display_data"
        },
        {
          "data": {
            "application/vnd.jupyter.widget-view+json": {
              "model_id": "8d639fffe937462c9f666056bf4e597d",
              "version_major": 2,
              "version_minor": 0
            },
            "text/plain": [
              "Dl Size...: 0 MiB [00:00, ? MiB/s]"
            ]
          },
          "metadata": {},
          "output_type": "display_data"
        },
        {
          "data": {
            "application/vnd.jupyter.widget-view+json": {
              "model_id": "8c3ba80e16624b8f9fdf662155ceb0ee",
              "version_major": 2,
              "version_minor": 0
            },
            "text/plain": [
              "Extraction completed...: 0 file [00:00, ? file/s]"
            ]
          },
          "metadata": {},
          "output_type": "display_data"
        },
        {
          "data": {
            "application/vnd.jupyter.widget-view+json": {
              "model_id": "e4873ac77d924d3eb98baf44c9d93ab0",
              "version_major": 2,
              "version_minor": 0
            },
            "text/plain": [
              "Generating splits...:   0%|          | 0/1 [00:00<?, ? splits/s]"
            ]
          },
          "metadata": {},
          "output_type": "display_data"
        },
        {
          "data": {
            "application/vnd.jupyter.widget-view+json": {
              "model_id": "cfb560fb5725497e87becf5af01c43c7",
              "version_major": 2,
              "version_minor": 0
            },
            "text/plain": [
              "Generating train examples...:   0%|          | 0/27000 [00:00<?, ? examples/s]"
            ]
          },
          "metadata": {},
          "output_type": "display_data"
        },
        {
          "data": {
            "application/vnd.jupyter.widget-view+json": {
              "model_id": "52e908b08fa0442ab743e27451201c45",
              "version_major": 2,
              "version_minor": 0
            },
            "text/plain": [
              "Shuffling ~/tensorflow_datasets/eurosat/rgb/2.0.0.incompleteVYOGR3/eurosat-train.tfrecord*...:   0%|          …"
            ]
          },
          "metadata": {},
          "output_type": "display_data"
        },
        {
          "name": "stdout",
          "output_type": "stream",
          "text": [
            "Dataset eurosat downloaded and prepared to ~/tensorflow_datasets/eurosat/rgb/2.0.0. Subsequent calls will reuse this data.\n"
          ]
        }
      ],
      "source": [
        "ds, info = tfds.load('EUROSAT',split=['train[90%:]','train[:80%]','train[80%:90%]'],with_info=True,as_supervised=True)\n",
        "[test_ds,train_ds,val_ds]= ds\n"
      ]
    },
    {
      "cell_type": "markdown",
      "metadata": {
        "id": "6-IAO3nyZKa3"
      },
      "source": [
        "The loaded datasets ```train_ds```, ```val_ds``` and ```test_ds``` are objects of type ```tensorflow.data.Dataset``` (or of a derived class). Moreover, ```info``` is an object of type ```tfds.core.DatasetInfo``` that contains useful information about the loaded data. In the following, you will first take a closer look at ```info```. Afterwards, you will learn how to access dataset items."
      ]
    },
    {
      "cell_type": "markdown",
      "metadata": {
        "id": "u_LWjuiNZKa6"
      },
      "source": [
        "### Looking at the big picture\n",
        "\n",
        "Use ```info``` to get a rough overview about ```EUROSAT```. Each ```item``` contained in ```train_ds```, ```val_ds``` and ```test_ds``` is a ```dictionary``` with keys ```\"image\"``` and ```\"label\"```.\n",
        "\n",
        "3. Print the following information in the specified order:\n",
        "   - Image shape (shape of ```item[\"image\"]```)\n",
        "   - Label shape (shape of ```item[\"label\"]```)\n",
        "   - Number of classes\n",
        "   - Class names\n",
        "   - Number of training examples\n",
        "\n",
        "All these information can be extracted from ```info```. Do **not** use ```train_ds```, ```val_ds``` or ```test_ds``` directly. Print the first information using ```print(\"Image shape: {}\".format(YOUR_CODE))``` and proceed analogously in the other cases."
      ]
    },
    {
      "cell_type": "code",
      "execution_count": 3,
      "metadata": {
        "colab": {
          "base_uri": "https://localhost:8080/"
        },
        "id": "MgRn0eurZKa-",
        "outputId": "a2255a58-dc04-4c77-b549-f2975250b78d",
        "scrolled": true
      },
      "outputs": [
        {
          "name": "stdout",
          "output_type": "stream",
          "text": [
            "(64, 64, 3)\n",
            "()\n",
            "10\n",
            "['AnnualCrop', 'Forest', 'HerbaceousVegetation', 'Highway', 'Industrial', 'Pasture', 'PermanentCrop', 'Residential', 'River', 'SeaLake']\n",
            "27000\n"
          ]
        }
      ],
      "source": [
        "\n",
        "\n",
        "print(info.features[\"image\"].shape)\n",
        "print(info.features[\"label\"].shape)\n",
        "print(info.features[\"label\"].num_classes)\n",
        "print(info.features[\"label\"].names)\n",
        "print(info.splits[\"train\"].num_examples)\n"
      ]
    },
    {
      "cell_type": "markdown",
      "metadata": {
        "id": "0q4DC_W5ZKa_"
      },
      "source": [
        "**Checkpoint**: Your code should produce the following output.\n",
        "\n",
        "```\n",
        "Image shape: (64, 64, 3)\n",
        "Label shape: ()\n",
        "Number of classes: 10\n",
        "Class names: ['AnnualCrop', 'Forest', 'HerbaceousVegetation', 'Highway', 'Industrial', 'Pasture', 'PermanentCrop', 'Residential', 'River', 'SeaLake']\n",
        "Number of training examples: 27000\n",
        "```"
      ]
    },
    {
      "cell_type": "markdown",
      "metadata": {
        "id": "njR5bw--ZKbB"
      },
      "source": [
        "Next, we will display a subset of the loaded images.\n",
        "\n",
        "4. Use the function ```tfds.show_examples``` with optional arguments ```rows=2``` and ```cols=5```, to display ten items from ```train_ds```."
      ]
    },
    {
      "cell_type": "code",
      "execution_count": 4,
      "metadata": {
        "colab": {
          "base_uri": "https://localhost:8080/",
          "height": 363
        },
        "id": "Pi7V8TcUZKbD",
        "outputId": "391d184f-c0c5-4f5c-9cb0-0c5773733df9",
        "scrolled": false
      },
      "outputs": [
        {
          "data": {
            "image/png": "[encoded data removed]",
            "text/plain": [
              "<Figure size 1080x432 with 10 Axes>"
            ]
          },
          "metadata": {},
          "output_type": "display_data"
        }
      ],
      "source": [
        "fig = tfds.show_examples(train_ds,info,rows=2,cols=5)"
      ]
    },
    {
      "cell_type": "markdown",
      "metadata": {
        "id": "46N7GuzZZKbH"
      },
      "source": [
        "We do already know the number of elements in the full ```EUROSAT``` dataset. However, we subdivided the original training split into training, validation and test data. Moreover, we do not know how many items from which class are in the respective subsets.\n",
        "\n",
        "5. Write a function ```count_occurences``` that takes as input a dataset ```ds``` and an object ```info```, and returns an array ```num_occurences```. Therein, ```num_occurences[i]``` represents the number of elements with ```item[\"label\"] = i``` in ```ds```.\n",
        "\n",
        "You can iterate over all elements in ```ds``` using a loop in the form of ```for item in ds: ...```."
      ]
    },
    {
      "cell_type": "code",
      "execution_count": 5,
      "metadata": {
        "id": "ZUiK8JImZKbK"
      },
      "outputs": [],
      "source": [
        "def count_occurences(ds,info):\n",
        "  num_occurences=np.zeros(10,dtype = np.int32)\n",
        "  for item in ds:\n",
        "    num_occurences[item[1].numpy()]+=1\n",
        "    \n",
        "  return num_occurences\n"
      ]
    },
    {
      "cell_type": "markdown",
      "metadata": {
        "id": "hlweGf0bZKbM"
      },
      "source": [
        "6. Apply your function to ```train_ds```, ```val_ds``` und ```test_ds``` and print the frequencies of occurence of all classes in the respective datasets. Use\n",
        "```python\n",
        "train_occurences = YOUR_CODE\n",
        "print(\"train_ds:\\t {}\".format(train_occurences))\n",
        "```\n",
        "for the first output, and format the other two accordingly."
      ]
    },
    {
      "cell_type": "code",
      "execution_count": 6,
      "metadata": {
        "colab": {
          "base_uri": "https://localhost:8080/"
        },
        "id": "7U_scTudZKbO",
        "outputId": "1d409f79-70c0-48ac-b608-0affd1b0807e"
      },
      "outputs": [
        {
          "name": "stdout",
          "output_type": "stream",
          "text": [
            "train_ds:\t [2427 2425 2379 1996 1999 1603 1996 2392 1989 2394]\n",
            "val_ds:\t\t [297 289 304 252 244 206 237 298 266 307]\n",
            "test_ds:\t [276 286 317 252 257 191 267 310 245 299]\n"
          ]
        }
      ],
      "source": [
        "train_occurences = count_occurences(train_ds,info)\n",
        "print(\"train_ds:\\t {}\".format(train_occurences))\n",
        "val_occurences = count_occurences( val_ds,info)\n",
        "print(\"val_ds:\\t\\t {}\".format(val_occurences))\n",
        "test_occurences = count_occurences(test_ds,info)\n",
        "print(\"test_ds:\\t {}\".format(test_occurences))"
      ]
    },
    {
      "cell_type": "markdown",
      "metadata": {
        "id": "NXXeQKsiZKbP"
      },
      "source": [
        "**Checkpoint:** Your code should produce the following output.\n",
        "\n",
        "```\n",
        "train_ds:\t [2427 2425 2379 1996 1999 1603 1996 2392 1989 2394]\n",
        "val_ds:\t\t [297 289 304 252 244 206 237 298 266 307]\n",
        "test_ds:\t [276 286 317 252 257 191 267 310 245 299]\n",
        "```\n",
        "\n",
        "The number of elements in a dataset can alternatively be accessed via the method ```tensorflow.data.Dataset.cardinality```."
      ]
    },
    {
      "cell_type": "markdown",
      "metadata": {
        "id": "KHuAAolfZKbR"
      },
      "source": [
        "Finally, let us get an idea of the range of values of the loaded images.\n",
        "\n",
        "7. Print the data format ```item[\"image\"].dtype``` as well as the smallest and largest entry of an arbitrary element ```item``` from ```train_ds```. Format the output analogous to above.\n",
        "\n",
        "By calling ```train_ds.take(1)``` you obtain a new dataset of type ```tensorflow.data.Dataset``` that contains only one item from ```train_ds```. The functions ```np.min``` and ```np.max``` can be helpful in order to compute the smallest and largest entries of an image. Although ```item[\"image\"]``` is a tensor, you can apply ```numpy``` functions directly to it. In case you ever want to cast ```item[\"image\"]``` (or any other tensor) explicitly as a ```numpy``` array (which does not apply here), the method ```item[\"image\"].numpy()``` is for you."
      ]
    },
    {
      "cell_type": "code",
      "execution_count": 7,
      "metadata": {
        "colab": {
          "base_uri": "https://localhost:8080/"
        },
        "id": "roawH4ZNZKbS",
        "outputId": "abe8eb5e-6f7f-47ad-8162-bbd602e4e6db",
        "scrolled": true
      },
      "outputs": [
        {
          "name": "stdout",
          "output_type": "stream",
          "text": [
            "largest entry:\t 98\n",
            "smallest entry:\t 26\n"
          ]
        }
      ],
      "source": [
        "single_item= train_ds.take(1)\n",
        "for item in single_item:\n",
        "    maxi= np.max(item[0].numpy())\n",
        "    mini= np.min(item[0].numpy())\n",
        "    \n",
        "    print(\"largest entry:\\t {}\".format(maxi))\n",
        "    print(\"smallest entry:\\t {}\".format(mini))"
      ]
    },
    {
      "cell_type": "markdown",
      "metadata": {
        "id": "DjhbX4QjZKbU"
      },
      "source": [
        "### Preprocessing the data\n",
        "In the previous step we have seen that the data are in integer format with entries in the range $\\{0,\\dots,255\\}$ (well, we actually only looked at a single image, but a look at the entire dataset would reveal that this is true). In terms of a training algorithm to be used later, it is often advantageous to rescale the data to a smaller interval. Now, we will rescale all images from ```train_ds```, ```val_ds``` und ```test_ds``` to the range $[0, 1]$ through division by $255$. At the same time, we will transform all elements ```item``` from a ```dictionary``` to a tuple ```(item[\"image\"] / 255, item[\"label\"])```.\n",
        "\n",
        "8. Write a function ```preprocess``` that takes as input an element ```item``` and returns a tuple as described above."
      ]
    },
    {
      "cell_type": "code",
      "execution_count": 8,
      "metadata": {
        "id": "SsmEDrdyZKbW"
      },
      "outputs": [],
      "source": [
        "def preprocess(image,label):\n",
        "    return (tf.cast(image, tf.float32) / 255, label)"
      ]
    },
    {
      "cell_type": "markdown",
      "metadata": {
        "id": "39uPBDh2ZKbY"
      },
      "source": [
        "9. Transform the datasets ```train_ds```, ```val_ds``` und ```test_ds``` using your function ```preprocess```. One call ```ds = ds.map(preprocess)``` is enough to transform a full dataset."
      ]
    },
    {
      "cell_type": "code",
      "execution_count": 9,
      "metadata": {
        "id": "A0FYp6KvZKbZ"
      },
      "outputs": [],
      "source": [
        "[test_ds, train_ds, val_ds]= ds\n",
        "\n",
        "train_ds= train_ds.map(preprocess)\n",
        "test_ds= test_ds.map(preprocess)\n",
        "val_ds= val_ds.map(preprocess)"
      ]
    },
    {
      "cell_type": "markdown",
      "metadata": {
        "id": "lqADI4s2ZKba"
      },
      "source": [
        "The class ```tf.data.Dataset``` provides various methods that can simplify the transformation of single items or entire datasets drastically. Two such methods are the above-mentioned ```tf.data.Dataset.take```, which requires an argument ```count``` and returns a new dataset including the first ```count``` elements of the calling dataset, as well as ```tf.data.Dataset.map```, which requires a function ```preprocess``` as input and applies this function automatically to all items in the dataset.\n",
        "\n",
        "Further methods from ```tf.data.Dataset```, which we will now use to construct an **input pipeline**, are\n",
        "- ```tf.data.Dataset.repeat``` to repeat a dataset a certain number of times,\n",
        "- ```tf.data.Dataset.shuffle``` to shuffle the items of a dataset randomly,\n",
        "- ```tf.data.Dataset.batch``` to group items of a dataset in batches of a certain size,\n",
        "- ```tf.data.Dataset.prefetch```.\n",
        "\n",
        "The usage of ```tf.data.Dataset``` is particularly efficient because only a fraction of the entire dataset is kept in the working memory at each time during training. Required data are loaded sequentially from disk into working memory and preprocessed. The method ```prefetch``` takes care that a specific number of batches will always be buffered ahead of time in the working memory. This prevents delays during training that could be caused by data loading and preprocessing. Further information can be found under https://www.tensorflow.org/api_docs/python/tf/data/Dataset.\n",
        "\n",
        "10. Define ```batch_size = 32``` (will be needed in the next step). Then, apply the methods ```repeat``` (without argument), ```shuffle``` (with arguments ```buffer_size=1024``` and ```seed=0```), ```batch``` (with argument ```batch_size=batch_size```) and ```prefetch``` (with argument ```buffer_size=1```) to ```train_ds``` (in the specified order)."
      ]
    },
    {
      "cell_type": "code",
      "execution_count": 10,
      "metadata": {
        "id": "JnuNiR1oZKbb"
      },
      "outputs": [],
      "source": [
        "# your code\n",
        "batch_size= 32\n",
        "train_ds= train_ds.repeat()\n",
        "train_ds= train_ds.shuffle(buffer_size= 1024, seed= 0)\n",
        "train_ds= train_ds.batch(batch_size= batch_size)\n",
        "train_ds= train_ds.prefetch(buffer_size= 1)"
      ]
    },
    {
      "cell_type": "markdown",
      "metadata": {
        "id": "ajiVdRwzZKbd"
      },
      "source": [
        "11. Execute the follwing code:"
      ]
    },
    {
      "cell_type": "code",
      "execution_count": 11,
      "metadata": {
        "colab": {
          "base_uri": "https://localhost:8080/",
          "height": 279
        },
        "id": "kcf_i2NgZKbe",
        "outputId": "9f2baa1d-546f-46e8-e94f-7f89619052c7",
        "scrolled": true
      },
      "outputs": [
        {
          "name": "stdout",
          "output_type": "stream",
          "text": [
            "(32, 64, 64, 3)\n"
          ]
        },
        {
          "data": {
            "image/png": "[encoded data removed]",
            "text/plain": [
              "<Figure size 432x288 with 1 Axes>"
            ]
          },
          "metadata": {},
          "output_type": "display_data"
        }
      ],
      "source": [
        "for item in train_ds.take(1):\n",
        "    print(item[0].shape)\n",
        "    plt.imshow(item[0][0, ...], cmap='gray')\n",
        "    plt.xticks([])\n",
        "    plt.yticks([])\n",
        "    plt.xlabel(f'Label: {item[1][0]}')\n",
        "    plt.show()"
      ]
    },
    {
      "cell_type": "markdown",
      "metadata": {
        "id": "2_ulnb18ZKbg"
      },
      "source": [
        "**Checkpoint:** You should get as output ```(32, 64, 64, 3)``` as well as (on first execution) an image showing forest."
      ]
    },
    {
      "cell_type": "markdown",
      "metadata": {
        "id": "05-8uN3iZKbi"
      },
      "source": [
        "12. Transform ```val_ds``` and ```test_ds``` in the same way, only omit calls of ```repeat``` and ```shuffle``` (would be without effect here) and use ```batch_size=1``` in the case of ```test_ds```.\n",
        "\n",
        "You can either put all these calls into one line of code per dataset, or use a new line for each transformation. Be aware that each above-mentioned method returns a new dataset, as opposed to modifying a dataset in place."
      ]
    },
    {
      "cell_type": "code",
      "execution_count": 12,
      "metadata": {
        "id": "ziyIowN1ZKbk"
      },
      "outputs": [],
      "source": [
        "# your code\n",
        "#val_ds.repeat()\n",
        "#val_ds= val_ds.shuffle(buffer_size= 1024, seed= 0)\n",
        "val_ds= val_ds.batch(batch_size= batch_size)\n",
        "val_ds= val_ds.prefetch(buffer_size= 1)\n",
        "\n",
        "test_ds= test_ds.batch(batch_size= 1)\n",
        "test_ds= test_ds.prefetch(buffer_size= 1)"
      ]
    },
    {
      "cell_type": "markdown",
      "metadata": {
        "id": "Zt6YMyw9ZKbm"
      },
      "source": [
        "## 1.2 Training phase\n",
        "\n",
        "Now that inspection and preprocessing of the data are finished, we will use ```tensorflow.keras``` to define a first neural network model and train that model on the ```EUROSAT``` data."
      ]
    },
    {
      "cell_type": "markdown",
      "metadata": {
        "id": "DmC5j3HrZKbn"
      },
      "source": [
        "### Model definition\n",
        "\n",
        "13. Use the Keras Sequential API to define a *fully connected* model ```model``` featuring the following architecture:\n",
        "\n",
        " - One (parameter-free) input layer to vectorize the input data,\n",
        " - one hidden layer with 256 neurons and ReLU activation function,\n",
        " - one output layer with a suitable number of neurons and softmax activation function.\n",
        "\n",
        "    \n",
        "Helpful information can be found under https://www.tensorflow.org/api_docs/python/tf/keras/Sequential/. Regarding the input layer, use ```keras.layers.Flatten()``` and submit the argument ```input_shape``` to inform the model about the input data format. To that end, you can use ```info.features[\"image\"].shape``` again."
      ]
    },
    {
      "cell_type": "code",
      "execution_count": 13,
      "metadata": {
        "id": "MiJQe0xeZKbn"
      },
      "outputs": [],
      "source": [
        "model = tf.keras.models.Sequential([\n",
        "    tf.keras.layers.Flatten(input_shape=info.features[\"image\"].shape),\n",
        "    tf.keras.layers.Dense(256, activation='relu'),\n",
        "    tf.keras.layers.Dense(10, activation= 'softmax')\n",
        "])\n"
      ]
    },
    {
      "cell_type": "markdown",
      "metadata": {
        "id": "cy1A9wxpZKbp"
      },
      "source": [
        "### Model summary\n",
        "\n",
        "14. Use ```model.summary``` to display a summary of your model."
      ]
    },
    {
      "cell_type": "code",
      "execution_count": 14,
      "metadata": {
        "colab": {
          "base_uri": "https://localhost:8080/"
        },
        "id": "HHyuMs_6ZKbq",
        "outputId": "995d3e5b-1780-4837-fe58-4bdf35200c02",
        "scrolled": true
      },
      "outputs": [
        {
          "name": "stdout",
          "output_type": "stream",
          "text": [
            "Model: \"sequential\"\n",
            "_________________________________________________________________\n",
            " Layer (type)                Output Shape              Param #   \n",
            "=================================================================\n",
            " flatten (Flatten)           (None, 12288)             0         \n",
            "                                                                 \n",
            " dense (Dense)               (None, 256)               3145984   \n",
            "                                                                 \n",
            " dense_1 (Dense)             (None, 10)                2570      \n",
            "                                                                 \n",
            "=================================================================\n",
            "Total params: 3,148,554\n",
            "Trainable params: 3,148,554\n",
            "Non-trainable params: 0\n",
            "_________________________________________________________________\n"
          ]
        }
      ],
      "source": [
        "model.summary()"
      ]
    },
    {
      "cell_type": "markdown",
      "metadata": {
        "id": "SvlkpbJgZKbr"
      },
      "source": [
        "**Checkpoint:** The end of the output of ```model.summary()``` should be as follows.\n",
        "\n",
        "```\n",
        "Total params: 3,148,554\n",
        "Trainable params: 3,148,554\n",
        "Non-trainable params: 0\n",
        "```"
      ]
    },
    {
      "cell_type": "markdown",
      "metadata": {
        "id": "339rVQ5MZKbt"
      },
      "source": [
        "### Training\n",
        "\n",
        "15. Call ```model.compile``` to compile your model. Use the loss function ```keras.losses.sparse_categorical_crossentropy```, the optimizer ```keras.optimizers.Adam```, as well as the metric ```keras.metrics.sparse_categorical_accuracy```. Moreover, use a learning rate rate schedule to implement a learning rate decay from initially ```1e-4``` to eventually ```1e-8```. Be sure to set the argument ```decay_steps``` of the schedule appropriately. Useful information can be found under https://www.tensorflow.org/api_docs/python/tf/keras/optimizers/schedules/PolynomialDecay."
      ]
    },
    {
      "cell_type": "code",
      "execution_count": 15,
      "metadata": {
        "id": "N3fCfUGwZKbu"
      },
      "outputs": [],
      "source": [
        "epochs =100\n",
        "start_learning_rate=1e-4\n",
        "\n",
        "scheduler = tf.keras.optimizers.schedules.PolynomialDecay(start_learning_rate, epochs * sum(train_occurences) // batch_size, 1e-8, power=1.0)\n",
        "\n",
        "model.compile(loss=keras.losses.sparse_categorical_crossentropy, optimizer=keras.optimizers.Adam(learning_rate=scheduler), metrics=[keras.metrics.sparse_categorical_accuracy])\n"
      ]
    },
    {
      "cell_type": "markdown",
      "metadata": {
        "id": "nb6m6ADjZKbx"
      },
      "source": [
        "16. Call ```model.fit``` with return value ```history``` to train your model for 100 epochs (as indicated in the previous cell) on ```train_ds```. Use the argument ```steps_per_epoch``` to pass the number of batches that need to be processed in each epoch. This number corresponds to the sum of entries of ```train_occurences``` divided by ```batch_size``` (round up). Also pass validation data ```val_ds```."
      ]
    },
    {
      "cell_type": "code",
      "execution_count": 16,
      "metadata": {
        "colab": {
          "base_uri": "https://localhost:8080/"
        },
        "id": "GPQYE9fqZKbx",
        "outputId": "01832826-0148-4ceb-8c33-7807c68e1dfa",
        "scrolled": true
      },
      "outputs": [
        {
          "name": "stdout",
          "output_type": "stream",
          "text": [
            "Epoch 1/100\n",
            "675/675 [==============================] - 21s 31ms/step - loss: 1.8398 - sparse_categorical_accuracy: 0.3079 - val_loss: 1.7474 - val_sparse_categorical_accuracy: 0.3519\n",
            "Epoch 2/100\n",
            "675/675 [==============================] - 18s 27ms/step - loss: 1.6892 - sparse_categorical_accuracy: 0.3683 - val_loss: 1.6639 - val_sparse_categorical_accuracy: 0.3896\n",
            "Epoch 3/100\n",
            "675/675 [==============================] - 18s 27ms/step - loss: 1.6374 - sparse_categorical_accuracy: 0.3950 - val_loss: 1.6794 - val_sparse_categorical_accuracy: 0.3500\n",
            "Epoch 4/100\n",
            "675/675 [==============================] - 18s 27ms/step - loss: 1.6019 - sparse_categorical_accuracy: 0.4137 - val_loss: 1.5678 - val_sparse_categorical_accuracy: 0.4333\n",
            "Epoch 5/100\n",
            "675/675 [==============================] - 18s 27ms/step - loss: 1.5558 - sparse_categorical_accuracy: 0.4333 - val_loss: 1.6022 - val_sparse_categorical_accuracy: 0.4159\n",
            "Epoch 6/100\n",
            "675/675 [==============================] - 18s 27ms/step - loss: 1.5323 - sparse_categorical_accuracy: 0.4377 - val_loss: 1.5303 - val_sparse_categorical_accuracy: 0.4511\n",
            "Epoch 7/100\n",
            "675/675 [==============================] - 18s 27ms/step - loss: 1.5055 - sparse_categorical_accuracy: 0.4528 - val_loss: 1.5329 - val_sparse_categorical_accuracy: 0.4289\n",
            "Epoch 8/100\n",
            "675/675 [==============================] - 18s 27ms/step - loss: 1.4840 - sparse_categorical_accuracy: 0.4604 - val_loss: 1.5126 - val_sparse_categorical_accuracy: 0.4570\n",
            "Epoch 9/100\n",
            "675/675 [==============================] - 18s 27ms/step - loss: 1.4650 - sparse_categorical_accuracy: 0.4669 - val_loss: 1.5253 - val_sparse_categorical_accuracy: 0.4544\n",
            "Epoch 10/100\n",
            "675/675 [==============================] - 18s 27ms/step - loss: 1.4521 - sparse_categorical_accuracy: 0.4754 - val_loss: 1.4627 - val_sparse_categorical_accuracy: 0.4785\n",
            "Epoch 11/100\n",
            "675/675 [==============================] - 18s 27ms/step - loss: 1.4393 - sparse_categorical_accuracy: 0.4805 - val_loss: 1.4760 - val_sparse_categorical_accuracy: 0.4607\n",
            "Epoch 12/100\n",
            "675/675 [==============================] - 19s 28ms/step - loss: 1.4135 - sparse_categorical_accuracy: 0.4920 - val_loss: 1.4555 - val_sparse_categorical_accuracy: 0.4874\n",
            "Epoch 13/100\n",
            "675/675 [==============================] - 18s 27ms/step - loss: 1.4051 - sparse_categorical_accuracy: 0.4975 - val_loss: 1.4471 - val_sparse_categorical_accuracy: 0.4730\n",
            "Epoch 14/100\n",
            "675/675 [==============================] - 18s 27ms/step - loss: 1.3871 - sparse_categorical_accuracy: 0.5066 - val_loss: 1.4393 - val_sparse_categorical_accuracy: 0.4856\n",
            "Epoch 15/100\n",
            "675/675 [==============================] - 18s 27ms/step - loss: 1.3761 - sparse_categorical_accuracy: 0.5127 - val_loss: 1.4142 - val_sparse_categorical_accuracy: 0.4881\n",
            "Epoch 16/100\n",
            "675/675 [==============================] - 19s 28ms/step - loss: 1.3592 - sparse_categorical_accuracy: 0.5167 - val_loss: 1.4459 - val_sparse_categorical_accuracy: 0.4770\n",
            "Epoch 17/100\n",
            "675/675 [==============================] - 19s 28ms/step - loss: 1.3403 - sparse_categorical_accuracy: 0.5275 - val_loss: 1.4098 - val_sparse_categorical_accuracy: 0.4989\n",
            "Epoch 18/100\n",
            "675/675 [==============================] - 19s 28ms/step - loss: 1.3291 - sparse_categorical_accuracy: 0.5281 - val_loss: 1.3688 - val_sparse_categorical_accuracy: 0.5174\n",
            "Epoch 19/100\n",
            "675/675 [==============================] - 19s 28ms/step - loss: 1.3187 - sparse_categorical_accuracy: 0.5323 - val_loss: 1.3788 - val_sparse_categorical_accuracy: 0.5133\n",
            "Epoch 20/100\n",
            "675/675 [==============================] - 19s 28ms/step - loss: 1.3025 - sparse_categorical_accuracy: 0.5394 - val_loss: 1.3973 - val_sparse_categorical_accuracy: 0.5044\n",
            "Epoch 21/100\n",
            "675/675 [==============================] - 19s 28ms/step - loss: 1.2926 - sparse_categorical_accuracy: 0.5411 - val_loss: 1.3395 - val_sparse_categorical_accuracy: 0.5259\n",
            "Epoch 22/100\n",
            "675/675 [==============================] - 19s 28ms/step - loss: 1.2809 - sparse_categorical_accuracy: 0.5481 - val_loss: 1.3385 - val_sparse_categorical_accuracy: 0.5289\n",
            "Epoch 23/100\n",
            "675/675 [==============================] - 19s 28ms/step - loss: 1.2820 - sparse_categorical_accuracy: 0.5469 - val_loss: 1.3565 - val_sparse_categorical_accuracy: 0.5211\n",
            "Epoch 24/100\n",
            "675/675 [==============================] - 19s 29ms/step - loss: 1.2644 - sparse_categorical_accuracy: 0.5532 - val_loss: 1.3490 - val_sparse_categorical_accuracy: 0.5196\n",
            "Epoch 25/100\n",
            "675/675 [==============================] - 19s 29ms/step - loss: 1.2577 - sparse_categorical_accuracy: 0.5556 - val_loss: 1.3238 - val_sparse_categorical_accuracy: 0.5311\n",
            "Epoch 26/100\n",
            "675/675 [==============================] - 19s 28ms/step - loss: 1.2435 - sparse_categorical_accuracy: 0.5616 - val_loss: 1.3440 - val_sparse_categorical_accuracy: 0.5248\n",
            "Epoch 27/100\n",
            "675/675 [==============================] - 19s 28ms/step - loss: 1.2336 - sparse_categorical_accuracy: 0.5644 - val_loss: 1.3055 - val_sparse_categorical_accuracy: 0.5359\n",
            "Epoch 28/100\n",
            "675/675 [==============================] - 19s 28ms/step - loss: 1.2299 - sparse_categorical_accuracy: 0.5674 - val_loss: 1.3190 - val_sparse_categorical_accuracy: 0.5300\n",
            "Epoch 29/100\n",
            "675/675 [==============================] - 19s 28ms/step - loss: 1.2158 - sparse_categorical_accuracy: 0.5724 - val_loss: 1.3070 - val_sparse_categorical_accuracy: 0.5385\n",
            "Epoch 30/100\n",
            "675/675 [==============================] - 19s 29ms/step - loss: 1.2224 - sparse_categorical_accuracy: 0.5680 - val_loss: 1.2920 - val_sparse_categorical_accuracy: 0.5393\n",
            "Epoch 31/100\n",
            "675/675 [==============================] - 19s 28ms/step - loss: 1.2021 - sparse_categorical_accuracy: 0.5789 - val_loss: 1.2986 - val_sparse_categorical_accuracy: 0.5359\n",
            "Epoch 32/100\n",
            "675/675 [==============================] - 19s 28ms/step - loss: 1.1978 - sparse_categorical_accuracy: 0.5765 - val_loss: 1.3120 - val_sparse_categorical_accuracy: 0.5256\n",
            "Epoch 33/100\n",
            "675/675 [==============================] - 19s 28ms/step - loss: 1.1918 - sparse_categorical_accuracy: 0.5798 - val_loss: 1.2817 - val_sparse_categorical_accuracy: 0.5537\n",
            "Epoch 34/100\n",
            "675/675 [==============================] - 18s 27ms/step - loss: 1.1860 - sparse_categorical_accuracy: 0.5814 - val_loss: 1.2713 - val_sparse_categorical_accuracy: 0.5541\n",
            "Epoch 35/100\n",
            "675/675 [==============================] - 18s 27ms/step - loss: 1.1811 - sparse_categorical_accuracy: 0.5871 - val_loss: 1.2845 - val_sparse_categorical_accuracy: 0.5400\n",
            "Epoch 36/100\n",
            "675/675 [==============================] - 18s 27ms/step - loss: 1.1724 - sparse_categorical_accuracy: 0.5891 - val_loss: 1.2956 - val_sparse_categorical_accuracy: 0.5389\n",
            "Epoch 37/100\n",
            "675/675 [==============================] - 18s 27ms/step - loss: 1.1691 - sparse_categorical_accuracy: 0.5878 - val_loss: 1.2698 - val_sparse_categorical_accuracy: 0.5519\n",
            "Epoch 38/100\n",
            "675/675 [==============================] - 18s 27ms/step - loss: 1.1595 - sparse_categorical_accuracy: 0.5937 - val_loss: 1.2572 - val_sparse_categorical_accuracy: 0.5530\n",
            "Epoch 39/100\n",
            "675/675 [==============================] - 18s 27ms/step - loss: 1.1538 - sparse_categorical_accuracy: 0.5933 - val_loss: 1.2477 - val_sparse_categorical_accuracy: 0.5507\n",
            "Epoch 40/100\n",
            "675/675 [==============================] - 18s 27ms/step - loss: 1.1536 - sparse_categorical_accuracy: 0.5967 - val_loss: 1.2518 - val_sparse_categorical_accuracy: 0.5652\n",
            "Epoch 41/100\n",
            "675/675 [==============================] - 18s 27ms/step - loss: 1.1432 - sparse_categorical_accuracy: 0.5962 - val_loss: 1.2801 - val_sparse_categorical_accuracy: 0.5537\n",
            "Epoch 42/100\n",
            "675/675 [==============================] - 18s 27ms/step - loss: 1.1362 - sparse_categorical_accuracy: 0.6018 - val_loss: 1.2738 - val_sparse_categorical_accuracy: 0.5507\n",
            "Epoch 43/100\n",
            "675/675 [==============================] - 19s 27ms/step - loss: 1.1391 - sparse_categorical_accuracy: 0.6017 - val_loss: 1.2613 - val_sparse_categorical_accuracy: 0.5537\n",
            "Epoch 44/100\n",
            "675/675 [==============================] - 18s 27ms/step - loss: 1.1288 - sparse_categorical_accuracy: 0.6064 - val_loss: 1.2919 - val_sparse_categorical_accuracy: 0.5419\n",
            "Epoch 45/100\n",
            "675/675 [==============================] - 18s 27ms/step - loss: 1.1254 - sparse_categorical_accuracy: 0.6104 - val_loss: 1.2651 - val_sparse_categorical_accuracy: 0.5530\n",
            "Epoch 46/100\n",
            "675/675 [==============================] - 18s 27ms/step - loss: 1.1206 - sparse_categorical_accuracy: 0.6089 - val_loss: 1.2613 - val_sparse_categorical_accuracy: 0.5493\n",
            "Epoch 47/100\n",
            "675/675 [==============================] - 18s 27ms/step - loss: 1.1163 - sparse_categorical_accuracy: 0.6108 - val_loss: 1.2573 - val_sparse_categorical_accuracy: 0.5585\n",
            "Epoch 48/100\n",
            "675/675 [==============================] - 18s 27ms/step - loss: 1.1139 - sparse_categorical_accuracy: 0.6135 - val_loss: 1.2433 - val_sparse_categorical_accuracy: 0.5637\n",
            "Epoch 49/100\n",
            "675/675 [==============================] - 18s 27ms/step - loss: 1.1068 - sparse_categorical_accuracy: 0.6133 - val_loss: 1.2475 - val_sparse_categorical_accuracy: 0.5607\n",
            "Epoch 50/100\n",
            "675/675 [==============================] - 18s 27ms/step - loss: 1.1023 - sparse_categorical_accuracy: 0.6150 - val_loss: 1.2447 - val_sparse_categorical_accuracy: 0.5570\n",
            "Epoch 51/100\n",
            "675/675 [==============================] - 18s 27ms/step - loss: 1.0973 - sparse_categorical_accuracy: 0.6181 - val_loss: 1.2364 - val_sparse_categorical_accuracy: 0.5663\n",
            "Epoch 52/100\n",
            "675/675 [==============================] - 18s 27ms/step - loss: 1.0918 - sparse_categorical_accuracy: 0.6226 - val_loss: 1.2307 - val_sparse_categorical_accuracy: 0.5633\n",
            "Epoch 53/100\n",
            "675/675 [==============================] - 18s 27ms/step - loss: 1.0944 - sparse_categorical_accuracy: 0.6191 - val_loss: 1.2204 - val_sparse_categorical_accuracy: 0.5722\n",
            "Epoch 54/100\n",
            "675/675 [==============================] - 18s 27ms/step - loss: 1.0882 - sparse_categorical_accuracy: 0.6215 - val_loss: 1.2461 - val_sparse_categorical_accuracy: 0.5641\n",
            "Epoch 55/100\n",
            "675/675 [==============================] - 18s 27ms/step - loss: 1.0803 - sparse_categorical_accuracy: 0.6264 - val_loss: 1.2218 - val_sparse_categorical_accuracy: 0.5678\n",
            "Epoch 56/100\n",
            "675/675 [==============================] - 18s 27ms/step - loss: 1.0768 - sparse_categorical_accuracy: 0.6278 - val_loss: 1.2137 - val_sparse_categorical_accuracy: 0.5681\n",
            "Epoch 57/100\n",
            "675/675 [==============================] - 18s 27ms/step - loss: 1.0754 - sparse_categorical_accuracy: 0.6265 - val_loss: 1.2215 - val_sparse_categorical_accuracy: 0.5681\n",
            "Epoch 58/100\n",
            "675/675 [==============================] - 18s 27ms/step - loss: 1.0706 - sparse_categorical_accuracy: 0.6270 - val_loss: 1.2255 - val_sparse_categorical_accuracy: 0.5700\n",
            "Epoch 59/100\n",
            "675/675 [==============================] - 18s 27ms/step - loss: 1.0662 - sparse_categorical_accuracy: 0.6311 - val_loss: 1.2369 - val_sparse_categorical_accuracy: 0.5733\n",
            "Epoch 60/100\n",
            "675/675 [==============================] - 18s 27ms/step - loss: 1.0591 - sparse_categorical_accuracy: 0.6354 - val_loss: 1.2151 - val_sparse_categorical_accuracy: 0.5730\n",
            "Epoch 61/100\n",
            "675/675 [==============================] - 18s 27ms/step - loss: 1.0591 - sparse_categorical_accuracy: 0.6365 - val_loss: 1.2227 - val_sparse_categorical_accuracy: 0.5578\n",
            "Epoch 62/100\n",
            "675/675 [==============================] - 18s 27ms/step - loss: 1.0625 - sparse_categorical_accuracy: 0.6309 - val_loss: 1.2088 - val_sparse_categorical_accuracy: 0.5748\n",
            "Epoch 63/100\n",
            "675/675 [==============================] - 18s 27ms/step - loss: 1.0548 - sparse_categorical_accuracy: 0.6334 - val_loss: 1.2278 - val_sparse_categorical_accuracy: 0.5707\n",
            "Epoch 64/100\n",
            "675/675 [==============================] - 18s 27ms/step - loss: 1.0500 - sparse_categorical_accuracy: 0.6359 - val_loss: 1.2153 - val_sparse_categorical_accuracy: 0.5763\n",
            "Epoch 65/100\n",
            "675/675 [==============================] - 18s 27ms/step - loss: 1.0447 - sparse_categorical_accuracy: 0.6402 - val_loss: 1.2268 - val_sparse_categorical_accuracy: 0.5670\n",
            "Epoch 66/100\n",
            "675/675 [==============================] - 18s 27ms/step - loss: 1.0415 - sparse_categorical_accuracy: 0.6419 - val_loss: 1.2026 - val_sparse_categorical_accuracy: 0.5815\n",
            "Epoch 67/100\n",
            "675/675 [==============================] - 18s 27ms/step - loss: 1.0414 - sparse_categorical_accuracy: 0.6416 - val_loss: 1.2229 - val_sparse_categorical_accuracy: 0.5722\n",
            "Epoch 68/100\n",
            "675/675 [==============================] - 18s 27ms/step - loss: 1.0372 - sparse_categorical_accuracy: 0.6438 - val_loss: 1.2146 - val_sparse_categorical_accuracy: 0.5763\n",
            "Epoch 69/100\n",
            "675/675 [==============================] - 18s 27ms/step - loss: 1.0358 - sparse_categorical_accuracy: 0.6455 - val_loss: 1.2059 - val_sparse_categorical_accuracy: 0.5748\n",
            "Epoch 70/100\n",
            "675/675 [==============================] - 18s 27ms/step - loss: 1.0291 - sparse_categorical_accuracy: 0.6481 - val_loss: 1.1969 - val_sparse_categorical_accuracy: 0.5841\n",
            "Epoch 71/100\n",
            "675/675 [==============================] - 18s 27ms/step - loss: 1.0307 - sparse_categorical_accuracy: 0.6454 - val_loss: 1.2162 - val_sparse_categorical_accuracy: 0.5737\n",
            "Epoch 72/100\n",
            "675/675 [==============================] - 18s 27ms/step - loss: 1.0288 - sparse_categorical_accuracy: 0.6448 - val_loss: 1.2024 - val_sparse_categorical_accuracy: 0.5852\n",
            "Epoch 73/100\n",
            "675/675 [==============================] - 18s 27ms/step - loss: 1.0205 - sparse_categorical_accuracy: 0.6507 - val_loss: 1.2077 - val_sparse_categorical_accuracy: 0.5785\n",
            "Epoch 74/100\n",
            "675/675 [==============================] - 18s 27ms/step - loss: 1.0227 - sparse_categorical_accuracy: 0.6490 - val_loss: 1.2037 - val_sparse_categorical_accuracy: 0.5744\n",
            "Epoch 75/100\n",
            "675/675 [==============================] - 18s 27ms/step - loss: 1.0186 - sparse_categorical_accuracy: 0.6556 - val_loss: 1.2023 - val_sparse_categorical_accuracy: 0.5778\n",
            "Epoch 76/100\n",
            "675/675 [==============================] - 18s 27ms/step - loss: 1.0158 - sparse_categorical_accuracy: 0.6534 - val_loss: 1.1944 - val_sparse_categorical_accuracy: 0.5870\n",
            "Epoch 77/100\n",
            "675/675 [==============================] - 18s 27ms/step - loss: 1.0145 - sparse_categorical_accuracy: 0.6527 - val_loss: 1.1877 - val_sparse_categorical_accuracy: 0.5874\n",
            "Epoch 78/100\n",
            "675/675 [==============================] - 18s 27ms/step - loss: 1.0105 - sparse_categorical_accuracy: 0.6550 - val_loss: 1.1955 - val_sparse_categorical_accuracy: 0.5907\n",
            "Epoch 79/100\n",
            "675/675 [==============================] - 18s 27ms/step - loss: 1.0089 - sparse_categorical_accuracy: 0.6588 - val_loss: 1.1900 - val_sparse_categorical_accuracy: 0.5915\n",
            "Epoch 80/100\n",
            "675/675 [==============================] - 18s 27ms/step - loss: 1.0085 - sparse_categorical_accuracy: 0.6569 - val_loss: 1.1892 - val_sparse_categorical_accuracy: 0.5844\n",
            "Epoch 81/100\n",
            "675/675 [==============================] - 18s 27ms/step - loss: 1.0021 - sparse_categorical_accuracy: 0.6593 - val_loss: 1.1948 - val_sparse_categorical_accuracy: 0.5807\n",
            "Epoch 82/100\n",
            "675/675 [==============================] - 18s 27ms/step - loss: 1.0053 - sparse_categorical_accuracy: 0.6578 - val_loss: 1.1931 - val_sparse_categorical_accuracy: 0.5904\n",
            "Epoch 83/100\n",
            "675/675 [==============================] - 18s 27ms/step - loss: 0.9974 - sparse_categorical_accuracy: 0.6600 - val_loss: 1.1974 - val_sparse_categorical_accuracy: 0.5837\n",
            "Epoch 84/100\n",
            "675/675 [==============================] - 18s 27ms/step - loss: 1.0000 - sparse_categorical_accuracy: 0.6615 - val_loss: 1.1930 - val_sparse_categorical_accuracy: 0.5800\n",
            "Epoch 85/100\n",
            "675/675 [==============================] - 19s 27ms/step - loss: 0.9945 - sparse_categorical_accuracy: 0.6638 - val_loss: 1.1852 - val_sparse_categorical_accuracy: 0.5859\n",
            "Epoch 86/100\n",
            "675/675 [==============================] - 18s 27ms/step - loss: 0.9952 - sparse_categorical_accuracy: 0.6617 - val_loss: 1.1919 - val_sparse_categorical_accuracy: 0.5811\n",
            "Epoch 87/100\n",
            "675/675 [==============================] - 18s 27ms/step - loss: 0.9914 - sparse_categorical_accuracy: 0.6651 - val_loss: 1.1862 - val_sparse_categorical_accuracy: 0.5870\n",
            "Epoch 88/100\n",
            "675/675 [==============================] - 18s 27ms/step - loss: 0.9919 - sparse_categorical_accuracy: 0.6629 - val_loss: 1.1921 - val_sparse_categorical_accuracy: 0.5826\n",
            "Epoch 89/100\n",
            "675/675 [==============================] - 18s 27ms/step - loss: 0.9891 - sparse_categorical_accuracy: 0.6651 - val_loss: 1.1845 - val_sparse_categorical_accuracy: 0.5911\n",
            "Epoch 90/100\n",
            "675/675 [==============================] - 18s 27ms/step - loss: 0.9859 - sparse_categorical_accuracy: 0.6667 - val_loss: 1.1896 - val_sparse_categorical_accuracy: 0.5852\n",
            "Epoch 91/100\n",
            "675/675 [==============================] - 18s 27ms/step - loss: 0.9894 - sparse_categorical_accuracy: 0.6674 - val_loss: 1.1833 - val_sparse_categorical_accuracy: 0.5907\n",
            "Epoch 92/100\n",
            "675/675 [==============================] - 18s 27ms/step - loss: 0.9855 - sparse_categorical_accuracy: 0.6653 - val_loss: 1.1797 - val_sparse_categorical_accuracy: 0.5907\n",
            "Epoch 93/100\n",
            "675/675 [==============================] - 18s 27ms/step - loss: 0.9847 - sparse_categorical_accuracy: 0.6689 - val_loss: 1.1796 - val_sparse_categorical_accuracy: 0.5889\n",
            "Epoch 94/100\n",
            "675/675 [==============================] - 18s 27ms/step - loss: 0.9788 - sparse_categorical_accuracy: 0.6706 - val_loss: 1.1833 - val_sparse_categorical_accuracy: 0.5922\n",
            "Epoch 95/100\n",
            "675/675 [==============================] - 18s 27ms/step - loss: 0.9838 - sparse_categorical_accuracy: 0.6668 - val_loss: 1.1842 - val_sparse_categorical_accuracy: 0.5922\n",
            "Epoch 96/100\n",
            "675/675 [==============================] - 18s 27ms/step - loss: 0.9795 - sparse_categorical_accuracy: 0.6700 - val_loss: 1.1790 - val_sparse_categorical_accuracy: 0.5922\n",
            "Epoch 97/100\n",
            "675/675 [==============================] - 18s 27ms/step - loss: 0.9803 - sparse_categorical_accuracy: 0.6702 - val_loss: 1.1819 - val_sparse_categorical_accuracy: 0.5941\n",
            "Epoch 98/100\n",
            "675/675 [==============================] - 18s 27ms/step - loss: 0.9770 - sparse_categorical_accuracy: 0.6692 - val_loss: 1.1799 - val_sparse_categorical_accuracy: 0.5911\n",
            "Epoch 99/100\n",
            "675/675 [==============================] - 18s 27ms/step - loss: 0.9766 - sparse_categorical_accuracy: 0.6703 - val_loss: 1.1811 - val_sparse_categorical_accuracy: 0.5915\n",
            "Epoch 100/100\n",
            "675/675 [==============================] - 18s 27ms/step - loss: 0.9782 - sparse_categorical_accuracy: 0.6698 - val_loss: 1.1810 - val_sparse_categorical_accuracy: 0.5904\n"
          ]
        }
      ],
      "source": [
        "history= model.fit(\n",
        "    train_ds,\n",
        "    epochs=100,\n",
        "    steps_per_epoch= np.sum(train_occurences)//batch_size,\n",
        "    validation_data=val_ds,\n",
        ")"
      ]
    },
    {
      "cell_type": "markdown",
      "metadata": {
        "id": "6BmMgciAZKbz"
      },
      "source": [
        "17. Save your model as ```my_first_model.h5```."
      ]
    },
    {
      "cell_type": "code",
      "execution_count": 17,
      "metadata": {
        "id": "Ikk429FDZKbz"
      },
      "outputs": [],
      "source": [
        "model.save('my_first_model.h5')"
      ]
    },
    {
      "cell_type": "markdown",
      "metadata": {
        "id": "KT3NiQ36ZKb3"
      },
      "source": [
        "18. Execute the following code to load your model again (this can be helpful if you pause and want to continue later)."
      ]
    },
    {
      "cell_type": "code",
      "execution_count": 18,
      "metadata": {
        "colab": {
          "base_uri": "https://localhost:8080/"
        },
        "id": "QToCfFFVZKb3",
        "outputId": "d8b5dbc0-335b-48cb-c5c9-430c41797a27"
      },
      "outputs": [
        {
          "data": {
            "text/plain": [
              "<keras.engine.sequential.Sequential at 0x7fb0d0861d50>"
            ]
          },
          "execution_count": 18,
          "metadata": {},
          "output_type": "execute_result"
        }
      ],
      "source": [
        "model= tf.keras.models.load_model('my_first_model.h5')\n",
        "model\n"
      ]
    },
    {
      "cell_type": "markdown",
      "metadata": {
        "id": "CZ8E5M_dZKb4"
      },
      "source": [
        "**Checkpoint:** You should have been able to save and load your model again."
      ]
    },
    {
      "cell_type": "markdown",
      "metadata": {
        "id": "uJc50NpwZKb5"
      },
      "source": [
        "### Learning curves\n",
        "\n",
        "The return value of ```model.fit``` is an object ```history``` of type ```keras.callbacks.History```. This object features attributes ```history.history``` and ```history.params```. The former is a dictionary with keys ```\"loss\"```, ```\"sparse_categorical_accuracy\"```, ```\"val_loss\"```, and ```\"val_sparse_categorical_accuracy\"```. The associated values are lists containing the respective metrics computed towards the end of each epoch.\n",
        "\n",
        "19. Construct an object ```history_frame``` of class ```pd.DataFrame``` from ```history.history```. Call ```history_frame.plot(figsize=(8, 5))``` and afterwards ```plt.show()```.\n",
        "\n",
        "Write your code below the two lines at the top of the following cell. The usage of ```seaborn``` here only provides a standardized and relatively pleasing style and rendering of the plots."
      ]
    },
    {
      "cell_type": "code",
      "execution_count": 19,
      "metadata": {
        "colab": {
          "base_uri": "https://localhost:8080/",
          "height": 339
        },
        "id": "IxF4sctcZKb6",
        "outputId": "bedf4fdb-6ecb-4902-ede9-6daac1b9d29f",
        "scrolled": true
      },
      "outputs": [
        {
          "data": {
            "text/plain": [
              "<function matplotlib.pyplot.show(*args, **kw)>"
            ]
          },
          "execution_count": 19,
          "metadata": {},
          "output_type": "execute_result"
        },
        {
          "data": {
            "image/png": "[encoded data removed]",
            "text/plain": [
              "<Figure size 576x360 with 1 Axes>"
            ]
          },
          "metadata": {},
          "output_type": "display_data"
        }
      ],
      "source": [
        "sns.set_style('darkgrid', {'axes.facecolor': '.9'})\n",
        "sns.set_context('notebook')\n",
        "history_frame= pd.DataFrame(data= history.history)\n",
        "history_frame.plot(figsize=(8,5))\n",
        "plt.show"
      ]
    },
    {
      "cell_type": "markdown",
      "metadata": {
        "id": "S7De9CsvZKb7"
      },
      "source": [
        "### Model evaluation\n",
        "\n",
        "During training, you could already watch the values of ```loss```, ```sparse_categorical_accuracy```, ```val_loss``` and ```sparse_categorical_val_accuracy``` evolve. To evaluate your model manually on a dataset, you can also call ```model.evaluate```.\n",
        "\n",
        "20. Apply ```model.evaluate``` twice to evaluate your model on training and validation data."
      ]
    },
    {
      "cell_type": "code",
      "execution_count": 20,
      "metadata": {
        "colab": {
          "base_uri": "https://localhost:8080/"
        },
        "id": "KEpdCXn_ZKb9",
        "outputId": "a62caecc-a5cc-40b4-db17-0a2df5dab433",
        "scrolled": true
      },
      "outputs": [
        {
          "name": "stdout",
          "output_type": "stream",
          "text": [
            "675/675 [==============================] - 8s 11ms/step - loss: 0.9772 - sparse_categorical_accuracy: 0.6705\n",
            "85/85 [==============================] - 1s 10ms/step - loss: 1.1810 - sparse_categorical_accuracy: 0.5904\n"
          ]
        },
        {
          "data": {
            "text/plain": [
              "[1.1809799671173096, 0.5903703570365906]"
            ]
          },
          "execution_count": 20,
          "metadata": {},
          "output_type": "execute_result"
        }
      ],
      "source": [
        "model.evaluate(train_ds, steps=np.sum(train_occurences)//batch_size)\n",
        "model.evaluate(val_ds)"
      ]
    },
    {
      "cell_type": "markdown",
      "metadata": {
        "id": "x7x7QAO0ZKb-"
      },
      "source": [
        "***Congratulations!***\n",
        "\n",
        "You have trained a first model for multiclass classification on ```EUROSAT``` and that is an important milestone!"
      ]
    },
    {
      "cell_type": "markdown",
      "metadata": {
        "id": "Hqw4Rdp1ZKb_"
      },
      "source": [
        "## 1.3 After training\n",
        "\n",
        "Apart from the model architecture and the observed metrics ```loss```, ```sparse_categorical_accuracy```, ```val_loss``` and ```val_sparse_categorical_accuracy```, we know yet only little about the functionality of our model. In this section, you will get to know two techniques for model visualization and interpretation."
      ]
    },
    {
      "cell_type": "markdown",
      "metadata": {
        "id": "nZNKWTN3ZKcA"
      },
      "source": [
        "### Forward propagation and model prediction\n",
        "\n",
        "Before we proceed to a first visualization technique, we recapitulate the forward propagation of an input image through a fully connected neural network. For a model with one $\\mathrm{ReLU}$ hidden layer and $\\mathrm{softmax}$ output layer, the forward mapping can be written as follows.\n",
        "\n",
        "$f(\\mathbf x) = \\underbrace{\\mathrm{softmax}(\\mathbf W^{[2]} \\underbrace{\\mathrm{ReLU}(\\mathbf W^{[1]}\\mathbf x + \\mathbf b^{[1]})}_{\\mathbf a^{[1]}} + \\mathbf b^{[2]})}_{\\mathbf a^{[2]}}$\n",
        "\n",
        "As a first step, we will now compute $f(\\mathbf x)$ using ```model```. The fastest way to do so is generally via the method ```model.predict```. However, just once, we will evaluate each layer of ```model``` separately to compute the network output. You can access the layers via ```model.layers[i]``` and use this object like a function. \n",
        "\n",
        "21. Complete the following code where indicated. The variable ```output``` shall ultimately contain $f(\\mathbf x)$ while ```prediction``` shall be a single number representing the predicted class."
      ]
    },
    {
      "cell_type": "code",
      "execution_count": 21,
      "metadata": {
        "colab": {
          "base_uri": "https://localhost:8080/",
          "height": 786
        },
        "id": "Lp50kl__ZKcA",
        "outputId": "e23b060b-5ac6-408f-d73f-db9ba6e9f462"
      },
      "outputs": [
        {
          "data": {
            "image/png": "[encoded data removed]",
            "text/plain": [
              "<Figure size 432x288 with 1 Axes>"
            ]
          },
          "metadata": {},
          "output_type": "display_data"
        },
        {
          "name": "stdout",
          "output_type": "stream",
          "text": [
            "True label: 9\n",
            "\n",
            "My Predicted Class Probabilities:\n",
            "\n",
            "0: 0.00425\n",
            "1: 0.00178\n",
            "2: 0.00701\n",
            "3: 0.00739\n",
            "4: 0.00000\n",
            "5: 0.13917\n",
            "6: 0.00908\n",
            "7: 0.00108\n",
            "8: 0.00301\n",
            "9: 0.82722\n",
            "\n",
            "My Predicted label: 9\n",
            "1/1 [==============================] - 0s 96ms/step\n",
            "\n",
            "Model Predicted Class Probabilities:\n",
            "\n",
            "0: 0.00425\n",
            "1: 0.00178\n",
            "2: 0.00701\n",
            "3: 0.00739\n",
            "4: 0.00000\n",
            "5: 0.13917\n",
            "6: 0.00908\n",
            "7: 0.00108\n",
            "8: 0.00301\n",
            "9: 0.82722\n"
          ]
        }
      ],
      "source": [
        "# get one batch from train_ds and select first item\n",
        "for item in train_ds.take(1):\n",
        "    demo_image = item[0][:1, ...]\n",
        "    demo_label = item[1][0]\n",
        "\n",
        "from keras import backend as K\n",
        "\n",
        "# compute hidden activations, model output and predicted_label\n",
        "flattened_input = model.layers[0](demo_image) # your code\n",
        "hidden_activations = model.layers[1](flattened_input) # your code\n",
        "output = model.layers[2](hidden_activations) # your code\n",
        "predicted_label = np.argmax(output.numpy())\n",
        "\n",
        " #max_index = output.index(max_value)\n",
        " #predicted_label = op.index(max_value) # your code\n",
        "    \n",
        "# plot demo_image, print demo_label\n",
        "plt.imshow(demo_image[0, ...], cmap='gray')\n",
        "plt.xticks([])\n",
        "plt.yticks([])\n",
        "plt.xlabel('Input demo_image')\n",
        "plt.show()\n",
        "print(f'True label: {demo_label}\\n')\n",
        "\n",
        "# print my predicted class probabilities and demo_label\n",
        "print('My Predicted Class Probabilities:\\n')\n",
        "for i in range(output.shape[1]):\n",
        "    print(f'{i}: {output[0][i]:.5f}')\n",
        "print(f'\\nMy Predicted label: {predicted_label}')\n",
        "\n",
        "# print model predicted class probabilities\n",
        "model_output = model.predict(demo_image)\n",
        "print('\\nModel Predicted Class Probabilities:\\n')\n",
        "for i in range(model_output.shape[1]):\n",
        "    print(f'{i}: {model_output[0][i]:.5f}')"
      ]
    },
    {
      "cell_type": "markdown",
      "metadata": {
        "id": "cpeCO8QlZKcB"
      },
      "source": [
        "**Checkpoint:** The values ```My Predicted Class Probabilities``` should be equal to ```Model Predicted Class Probabilities```. Moreover, the value ```My Predicted Label``` should correspond to the index of the largest entry of ```My Predicted Class Probabilities```."
      ]
    },
    {
      "cell_type": "markdown",
      "metadata": {
        "id": "CYBxiLNlZKcC"
      },
      "source": [
        "### Interpretation of model predictions\n",
        "\n",
        "Now that we have visualized the connection between model parameters and activations, we will implement another method to explain the relation between model input and prediction: *Layer-Wise Relevance Propagation* (LRP) computes one so-called relevance score per input pixel, which can be considered the contribution of that pixel to the model prediction. To that end, relevance scores for all neurons in the network are successively generated via backpropagation from the output layer to the input layer.\n",
        "\n",
        "Relevance scores for the ouput layer are initially defined using the model output (i.e., the predicted probability) corresponding to ```predicted_label``` ($k$ represents the respective index here):\n",
        "\n",
        "$\\mathbf r^{[L]} := \\begin{pmatrix}0\\\\\\vdots\\\\\\mathbf a^{[L]}_k\\\\\\vdots\\\\0\\end{pmatrix}\\in \\mathbb R^{n_L}$ \n",
        "\n",
        "Afterwards, relevance scores $\\mathbf r^{[L-1]}, \\mathbf r^{[L-2]}, \\dots, \\mathbf r^{[1]}, \\mathbf r^{[0]}$ (in exactly this order) are computed for all other layers as follows:\n",
        "\n",
        "$\\displaystyle \\mathbf r^{[\\ell-1]} := \\alpha \\ \\frac{\\mathbf a^{[\\ell -1]}\\odot \\mathbf W^{[\\ell]\\top+}}{\\mathbf a^{[\\ell -1]\\top} \\mathbf W^{[\\ell]\\top+}} \\ \\mathbf r^{[\\ell]} \\ - \\ \\beta \\ \\frac{\\mathbf a^{[\\ell -1]}\\odot \\mathbf W^{[\\ell]\\top-}}{\\mathbf a^{[\\ell -1]\\top} \\mathbf W^{[\\ell]\\top-}} \\ \\mathbf r^{[\\ell]}$\n",
        "\n",
        "Therein\n",
        "\n",
        "$\\mathbf W^{[\\ell]\\top+} := \\max(\\mathbf W^{[\\ell]\\top}, \\mathbf 0)$\n",
        "\n",
        "denotes the positive part and\n",
        "\n",
        "$\\mathbf W^{[\\ell]\\top-} := -\\min(\\mathbf W^{[\\ell]\\top}, \\mathbf 0)$\n",
        "\n",
        "denotes the negative part of $\\mathbf W^{[\\ell]\\top} \\in \\mathbb R^{n_{\\ell-1}\\times n_{\\ell}}$, where minimum and maximum are computed componentwise. Moreover, \n",
        "\n",
        "$\\mathbf a^{[\\ell -1]}\\odot \\mathbf W^{[\\ell]\\top+}\\in \\mathbb R^{n_{\\ell-1}\\times n_{\\ell}}$\n",
        "\n",
        "results from componentwise multiplication of $\\mathbf a^{[\\ell -1]}\\in \\mathbb R^{n_{\\ell-1}}$ with each column of $\\mathbf W^{[\\ell]\\top+}$ (same for the negative part). Analogously, the fraction line stands for componentwise division of the rows of $\\mathbf a^{[\\ell -1]}\\odot \\mathbf W^{[\\ell]\\top+}$ by $\\mathbf a^{[\\ell -1]\\top} \\mathbf W^{[\\ell]\\top+}\\in \\mathbb R^{1\\times n_{\\ell}}$ (same for the other fraction). Consequently, each fraction represents a $n_{\\ell-1}\\times n_{\\ell}$ matrix which is then multiplied with $\\mathbf r^{[\\ell]}\\in \\mathbb R^{n_{\\ell}\\times 1}$.\n",
        "\n",
        "The scalar values $\\alpha, \\beta \\geq 0$ are chosen such that $\\alpha - \\beta = 1$. Therewith, it can be shown that\n",
        "\n",
        "$\\sum_j \\mathbf r^{[L]}_j = \\sum_j \\mathbf r^{[L-1]}_j = \\sum_j \\mathbf r^{[L-2]}_j = \\dots = \\sum_j \\mathbf r^{[1]}_j = \\sum_j \\mathbf r^{[0]}_j$\n",
        "\n",
        "holds. Therefore, LRP has a so-called *relevance conservation property*.\n",
        "\n",
        "The above formulas are kept as brief as possible. However, they have a concrete interpretation: Each neuron in a layer contributes positively or negatively to all neuron activations in successive layers. The relevance score of a neuron can be considered a proportionate sum of these contributions, and that is exactly reflected in the above formulas.\n",
        "\n",
        "If you have questions regarding LRP or want to know more about it, join Question Time or have a look at https://www.sciencedirect.com/science/article/pii/S1051200417302385?via%3Dihub.\n",
        "\n",
        "Here is your exercise:\n",
        "\n",
        "22. Complete the following function at the positions indicated by ```None``` such that it fits exactly with the above LRP formula. Again, be aware that ```model.layers[l].weights[0]``` corresponds to $\\mathbf W^{[\\ell]\\top}$. If you are unsure about shapes or dimensions of tensors, you can use ```tf.Tensor.shape``` to generate intermediate outputs. Also note that the function ```LRP``` should work for arbitrarily deep and wide fully connected $\\mathrm{ReLU}$ networks with $\\mathrm{softmax}$ output activation."
      ]
    },
    {
      "cell_type": "code",
      "execution_count": 22,
      "metadata": {
        "id": "vMLVvQ_7ZKcE"
      },
      "outputs": [],
      "source": [
        "\n",
        "def lrp(alpha, beta, model, x):\n",
        "    \n",
        "    # get number of layers (including input layer)\n",
        "    num_layers = len(model.layers)\n",
        "    \n",
        "    # get activations\n",
        "    activations = [model.layers[0](x)]\n",
        "    for l in range(1, num_layers):\n",
        "        activations.append(model.layers[l](activations[-1]))\n",
        "        \n",
        "    # compute scores\n",
        "    scores = [tf.transpose(activations[-1])]\n",
        "    c = tf.squeeze(tf.math.argmax(scores[0]))\n",
        "    for l in range(num_layers-2, -1, -1):\n",
        "        w = model.layers[l+1].weights[0]\n",
        "        if l == num_layers-2:\n",
        "            w_pos = tf.clip_by_value(w[:, c:c+1], 0, np.inf)\n",
        "            w_neg = -tf.clip_by_value(w[:, c:c+1], -np.inf, 0)\n",
        "            s = scores[0][c:c+1]\n",
        "            scores[0] = s\n",
        "        else:\n",
        "            w_pos = tf.clip_by_value(w, 0, np.inf)\n",
        "            w_neg = -tf.clip_by_value(w, -np.inf, 0)\n",
        "            s = scores[0]\n",
        "        a = activations[l]\n",
        "        \n",
        "        # use the following mask_pos and mask_neg to prevent from division by zero when computing score_pos and score_neg\n",
        "        mask_pos = tf.cast(tf.matmul(a, w_pos) == 0, tf.float32) + 1e-6\n",
        "        mask_neg = tf.cast(tf.matmul(a, w_neg) == 0, tf.float32) + 1e-6\n",
        "        score_pos = alpha * tf.matmul((tf.transpose(a)* w_pos)/(tf.matmul(a, w_pos)) , s) # your code\n",
        "        score_neg = beta * tf.matmul((tf.transpose(a)*w_neg)/(tf.matmul(a, w_neg)),  s)# your code\n",
        "        score_total =  (score_pos - score_neg )#score_pos - score_neg # your code\n",
        "        scores.insert(0, score_total)\n",
        "        \n",
        "    return scores, activations"
      ]
    },
    {
      "cell_type": "markdown",
      "metadata": {
        "id": "hWLebo04ZKcF"
      },
      "source": [
        "23. Apply LRP with $\\alpha=2$ and $\\beta=1$ to ```model``` and ```demo_image```."
      ]
    },
    {
      "cell_type": "code",
      "execution_count": 23,
      "metadata": {
        "colab": {
          "base_uri": "https://localhost:8080/",
          "height": 682
        },
        "id": "DMhA3bVVZKcG",
        "outputId": "cb96f5fa-46e6-4114-dc31-88393cf867a5"
      },
      "outputs": [
        {
          "name": "stdout",
          "output_type": "stream",
          "text": [
            "Predicted Probability for Predicted Class (Relevance in Output Layer):\n",
            "\n",
            "0.38758\n",
            "\n",
            "\n",
            "Sum of all Relevances in Input Layer:\n",
            "\n",
            "0.38758\n",
            "\n",
            "\n",
            "True Class\n",
            "\n",
            "3 (Highway)\n",
            "\n",
            "1/1 [==============================] - 0s 17ms/step\n",
            "\n",
            "Predicted Class\n",
            "\n",
            "3 (Highway) with probability 0.38757801055908203\n",
            "\n"
          ]
        },
        {
          "data": {
            "image/png": "[encoded data removed]",
            "text/plain": [
              "<Figure size 864x486 with 2 Axes>"
            ]
          },
          "metadata": {},
          "output_type": "display_data"
        }
      ],
      "source": [
        "from tensorflow.python.ops.gen_nn_ops import relu\n",
        " #you can uncomment the following three lines to try demo_image / demo_label other than the above-defined\n",
        "for item in train_ds.take(1):\n",
        "  demo_image = item[0][:1, ...]\n",
        "  demo_label = item[1][0]\n",
        "#\n",
        "scores,_= lrp(2, 1, model, demo_image) # your code\n",
        "scores_input = scores[0].numpy().reshape(64, 64, 3)\n",
        "\n",
        "print('Predicted Probability for Predicted Class (Relevance in Output Layer):\\n')\n",
        "print(f'{tf.squeeze(scores[-1]).numpy():.5f}\\n')\n",
        "\n",
        "print('\\nSum of all Relevances in Input Layer:\\n')\n",
        "print(f'{tf.squeeze(tf.reduce_sum(scores[0])).numpy():.5f}\\n')\n",
        "\n",
        "print('\\nTrue Class\\n')\n",
        "print(f'{demo_label} ({info.features[\"label\"].names[demo_label]})\\n')\n",
        "\n",
        "prediction = model.predict(demo_image)\n",
        "predicted_label = np.argmax(prediction)\n",
        "print('\\nPredicted Class\\n')\n",
        "print(f'{predicted_label} ({info.features[\"label\"].names[predicted_label]}) with probability {prediction[0][predicted_label]}\\n')\n",
        "\n",
        "plt.subplots(1, 2, figsize=(12, 6.75))\n",
        "plt.subplot(1, 2, 1)\n",
        "plt.imshow(demo_image[0, ...], norm=mcolors.TwoSlopeNorm(vcenter=0.5))\n",
        "plt.xticks([])\n",
        "plt.yticks([])\n",
        "plt.subplot(1, 2, 2)\n",
        "tmp = np.sum(scores_input, axis=2)\n",
        "min_score = tmp.min()\n",
        "max_score = tmp.max()\n",
        "tmp = (tmp - min_score) / (max_score - min_score)\n",
        "plt.imshow(tmp, cmap=plt.cm.seismic, norm=mcolors.TwoSlopeNorm(vcenter=-min_score / (max_score - min_score)), alpha=1.)\n",
        "plt.xticks([])\n",
        "plt.yticks([])\n",
        "plt.show()"
      ]
    },
    {
      "cell_type": "markdown",
      "metadata": {
        "id": "UbOfBK6wZKcH"
      },
      "source": [
        "**Checkpoint**: Both displayed numbers should be equal if your implementation of LRP is correct (otherwise, your implementation does not obey the relevance conservation property)."
      ]
    },
    {
      "cell_type": "markdown",
      "metadata": {
        "id": "KkSbM_5yZKcH"
      },
      "source": [
        "### Hyperparameter Tuning\n",
        "\n",
        "Your first model had only one hidden layer and a very small number of neurons. In this section, you will train many more models to find a configuration of *hyperparameters* that yield a much better performance on the validation data. Although there exist dedicated approaches and software to explore the space of hyperparameters, we will start with simple nested ```for``` loops. This is for certain not the most efficient among the available approaches, which is why you should carry out the following computation on the GPU-cluster. You may extend the hyperparameter configurations specified below to extend the search space.\n",
        "\n",
        "24. Understand and complete the following code and discuss it with your teammate. Execute the code on the GPU-cluster."
      ]
    },
    {
      "cell_type": "code",
      "execution_count": 24,
      "metadata": {
        "colab": {
          "base_uri": "https://localhost:8080/",
          "height": 536
        },
        "id": "91dAPo0CZKcI",
        "outputId": "ace059a6-4a7f-4b0f-f38d-c424ac8c17fe"
      },
      "outputs": [
        {
          "name": "stdout",
          "output_type": "stream",
          "text": [
            "675/675 [==============================] - 8s 11ms/step - loss: 1.2233 - sparse_categorical_accuracy: 0.5860\n",
            "85/85 [==============================] - 1s 10ms/step - loss: 1.3107 - sparse_categorical_accuracy: 0.5385\n",
            "675/675 [==============================] - 10s 15ms/step - loss: 1.2346 - sparse_categorical_accuracy: 0.5857\n",
            "85/85 [==============================] - 1s 14ms/step - loss: 1.3294 - sparse_categorical_accuracy: 0.5337\n",
            "675/675 [==============================] - 10s 15ms/step - loss: 1.2383 - sparse_categorical_accuracy: 0.5940\n",
            "85/85 [==============================] - 2s 22ms/step - loss: 1.3414 - sparse_categorical_accuracy: 0.5441\n"
          ]
        },
        {
          "ename": "KeyboardInterrupt",
          "evalue": "ignored",
          "output_type": "error",
          "traceback": [
            "\u001b[0;31m---------------------------------------------------------------------------\u001b[0m",
            "\u001b[0;31mKeyboardInterrupt\u001b[0m                         Traceback (most recent call last)",
            "\u001b[0;32m<ipython-input-24-899bd980613b>\u001b[0m in \u001b[0;36m<module>\u001b[0;34m\u001b[0m\n\u001b[1;32m     17\u001b[0m                 \u001b[0mscheduler\u001b[0m \u001b[0;34m=\u001b[0m \u001b[0mtf\u001b[0m\u001b[0;34m.\u001b[0m\u001b[0mkeras\u001b[0m\u001b[0;34m.\u001b[0m\u001b[0moptimizers\u001b[0m\u001b[0;34m.\u001b[0m\u001b[0mschedules\u001b[0m\u001b[0;34m.\u001b[0m\u001b[0mPolynomialDecay\u001b[0m\u001b[0;34m(\u001b[0m\u001b[0mstart_learning_rate\u001b[0m\u001b[0;34m,\u001b[0m \u001b[0mepochs\u001b[0m \u001b[0;34m*\u001b[0m \u001b[0msum\u001b[0m\u001b[0;34m(\u001b[0m\u001b[0mtrain_occurences\u001b[0m\u001b[0;34m)\u001b[0m \u001b[0;34m//\u001b[0m \u001b[0mbatch_size\u001b[0m\u001b[0;34m,\u001b[0m \u001b[0;36m1e-8\u001b[0m\u001b[0;34m,\u001b[0m \u001b[0mpower\u001b[0m\u001b[0;34m=\u001b[0m\u001b[0;36m1.0\u001b[0m\u001b[0;34m)\u001b[0m\u001b[0;34m\u001b[0m\u001b[0;34m\u001b[0m\u001b[0m\n\u001b[1;32m     18\u001b[0m                 \u001b[0mmodel\u001b[0m\u001b[0;34m.\u001b[0m\u001b[0mcompile\u001b[0m\u001b[0;34m(\u001b[0m\u001b[0mloss\u001b[0m\u001b[0;34m=\u001b[0m\u001b[0mkeras\u001b[0m\u001b[0;34m.\u001b[0m\u001b[0mlosses\u001b[0m\u001b[0;34m.\u001b[0m\u001b[0msparse_categorical_crossentropy\u001b[0m\u001b[0;34m,\u001b[0m \u001b[0moptimizer\u001b[0m\u001b[0;34m=\u001b[0m\u001b[0mkeras\u001b[0m\u001b[0;34m.\u001b[0m\u001b[0moptimizers\u001b[0m\u001b[0;34m.\u001b[0m\u001b[0mAdam\u001b[0m\u001b[0;34m(\u001b[0m\u001b[0mlearning_rate\u001b[0m\u001b[0;34m=\u001b[0m\u001b[0mscheduler\u001b[0m\u001b[0;34m)\u001b[0m\u001b[0;34m,\u001b[0m \u001b[0mmetrics\u001b[0m\u001b[0;34m=\u001b[0m\u001b[0;34m[\u001b[0m\u001b[0mkeras\u001b[0m\u001b[0;34m.\u001b[0m\u001b[0mmetrics\u001b[0m\u001b[0;34m.\u001b[0m\u001b[0msparse_categorical_accuracy\u001b[0m\u001b[0;34m]\u001b[0m\u001b[0;34m)\u001b[0m\u001b[0;34m\u001b[0m\u001b[0;34m\u001b[0m\u001b[0m\n\u001b[0;32m---> 19\u001b[0;31m                 \u001b[0mmodel\u001b[0m\u001b[0;34m.\u001b[0m\u001b[0mfit\u001b[0m\u001b[0;34m(\u001b[0m\u001b[0mtrain_ds\u001b[0m\u001b[0;34m,\u001b[0m\u001b[0mepochs\u001b[0m\u001b[0;34m=\u001b[0m\u001b[0;36m100\u001b[0m\u001b[0;34m,\u001b[0m\u001b[0msteps_per_epoch\u001b[0m\u001b[0;34m=\u001b[0m \u001b[0mnp\u001b[0m\u001b[0;34m.\u001b[0m\u001b[0msum\u001b[0m\u001b[0;34m(\u001b[0m\u001b[0mtrain_occurences\u001b[0m\u001b[0;34m)\u001b[0m\u001b[0;34m//\u001b[0m\u001b[0mbatch_size\u001b[0m\u001b[0;34m,\u001b[0m\u001b[0mvalidation_data\u001b[0m\u001b[0;34m=\u001b[0m\u001b[0mval_ds\u001b[0m\u001b[0;34m,\u001b[0m\u001b[0mverbose\u001b[0m\u001b[0;34m=\u001b[0m\u001b[0;36m0\u001b[0m\u001b[0;34m)\u001b[0m\u001b[0;31m# your code (call fit function with verbose=0)\u001b[0m\u001b[0;34m\u001b[0m\u001b[0;34m\u001b[0m\u001b[0m\n\u001b[0m\u001b[1;32m     20\u001b[0m                 \u001b[0mtrain_loss\u001b[0m\u001b[0;34m,\u001b[0m \u001b[0mtrain_acc\u001b[0m \u001b[0;34m=\u001b[0m \u001b[0mmodel\u001b[0m\u001b[0;34m.\u001b[0m\u001b[0mevaluate\u001b[0m\u001b[0;34m(\u001b[0m\u001b[0mtrain_ds\u001b[0m\u001b[0;34m,\u001b[0m \u001b[0msteps\u001b[0m\u001b[0;34m=\u001b[0m\u001b[0mnp\u001b[0m\u001b[0;34m.\u001b[0m\u001b[0msum\u001b[0m\u001b[0;34m(\u001b[0m\u001b[0mtrain_occurences\u001b[0m\u001b[0;34m)\u001b[0m \u001b[0;34m//\u001b[0m \u001b[0mbatch_size\u001b[0m\u001b[0;34m)\u001b[0m\u001b[0;34m\u001b[0m\u001b[0;34m\u001b[0m\u001b[0m\n\u001b[1;32m     21\u001b[0m                 \u001b[0mval_loss\u001b[0m\u001b[0;34m,\u001b[0m \u001b[0mval_acc\u001b[0m \u001b[0;34m=\u001b[0m \u001b[0mmodel\u001b[0m\u001b[0;34m.\u001b[0m\u001b[0mevaluate\u001b[0m\u001b[0;34m(\u001b[0m\u001b[0mval_ds\u001b[0m\u001b[0;34m)\u001b[0m\u001b[0;34m\u001b[0m\u001b[0;34m\u001b[0m\u001b[0m\n",
            "\u001b[0;32m/usr/local/lib/python3.7/dist-packages/keras/utils/traceback_utils.py\u001b[0m in \u001b[0;36merror_handler\u001b[0;34m(*args, **kwargs)\u001b[0m\n\u001b[1;32m     62\u001b[0m     \u001b[0mfiltered_tb\u001b[0m \u001b[0;34m=\u001b[0m \u001b[0;32mNone\u001b[0m\u001b[0;34m\u001b[0m\u001b[0;34m\u001b[0m\u001b[0m\n\u001b[1;32m     63\u001b[0m     \u001b[0;32mtry\u001b[0m\u001b[0;34m:\u001b[0m\u001b[0;34m\u001b[0m\u001b[0;34m\u001b[0m\u001b[0m\n\u001b[0;32m---> 64\u001b[0;31m       \u001b[0;32mreturn\u001b[0m \u001b[0mfn\u001b[0m\u001b[0;34m(\u001b[0m\u001b[0;34m*\u001b[0m\u001b[0margs\u001b[0m\u001b[0;34m,\u001b[0m \u001b[0;34m**\u001b[0m\u001b[0mkwargs\u001b[0m\u001b[0;34m)\u001b[0m\u001b[0;34m\u001b[0m\u001b[0;34m\u001b[0m\u001b[0m\n\u001b[0m\u001b[1;32m     65\u001b[0m     \u001b[0;32mexcept\u001b[0m \u001b[0mException\u001b[0m \u001b[0;32mas\u001b[0m \u001b[0me\u001b[0m\u001b[0;34m:\u001b[0m  \u001b[0;31m# pylint: disable=broad-except\u001b[0m\u001b[0;34m\u001b[0m\u001b[0;34m\u001b[0m\u001b[0m\n\u001b[1;32m     66\u001b[0m       \u001b[0mfiltered_tb\u001b[0m \u001b[0;34m=\u001b[0m \u001b[0m_process_traceback_frames\u001b[0m\u001b[0;34m(\u001b[0m\u001b[0me\u001b[0m\u001b[0;34m.\u001b[0m\u001b[0m__traceback__\u001b[0m\u001b[0;34m)\u001b[0m\u001b[0;34m\u001b[0m\u001b[0;34m\u001b[0m\u001b[0m\n",
            "\u001b[0;32m/usr/local/lib/python3.7/dist-packages/keras/engine/training.py\u001b[0m in \u001b[0;36mfit\u001b[0;34m(self, x, y, batch_size, epochs, verbose, callbacks, validation_split, validation_data, shuffle, class_weight, sample_weight, initial_epoch, steps_per_epoch, validation_steps, validation_batch_size, validation_freq, max_queue_size, workers, use_multiprocessing)\u001b[0m\n\u001b[1;32m   1407\u001b[0m                 _r=1):\n\u001b[1;32m   1408\u001b[0m               \u001b[0mcallbacks\u001b[0m\u001b[0;34m.\u001b[0m\u001b[0mon_train_batch_begin\u001b[0m\u001b[0;34m(\u001b[0m\u001b[0mstep\u001b[0m\u001b[0;34m)\u001b[0m\u001b[0;34m\u001b[0m\u001b[0;34m\u001b[0m\u001b[0m\n\u001b[0;32m-> 1409\u001b[0;31m               \u001b[0mtmp_logs\u001b[0m \u001b[0;34m=\u001b[0m \u001b[0mself\u001b[0m\u001b[0;34m.\u001b[0m\u001b[0mtrain_function\u001b[0m\u001b[0;34m(\u001b[0m\u001b[0miterator\u001b[0m\u001b[0;34m)\u001b[0m\u001b[0;34m\u001b[0m\u001b[0;34m\u001b[0m\u001b[0m\n\u001b[0m\u001b[1;32m   1410\u001b[0m               \u001b[0;32mif\u001b[0m \u001b[0mdata_handler\u001b[0m\u001b[0;34m.\u001b[0m\u001b[0mshould_sync\u001b[0m\u001b[0;34m:\u001b[0m\u001b[0;34m\u001b[0m\u001b[0;34m\u001b[0m\u001b[0m\n\u001b[1;32m   1411\u001b[0m                 \u001b[0mcontext\u001b[0m\u001b[0;34m.\u001b[0m\u001b[0masync_wait\u001b[0m\u001b[0;34m(\u001b[0m\u001b[0;34m)\u001b[0m\u001b[0;34m\u001b[0m\u001b[0;34m\u001b[0m\u001b[0m\n",
            "\u001b[0;32m/usr/local/lib/python3.7/dist-packages/tensorflow/python/util/traceback_utils.py\u001b[0m in \u001b[0;36merror_handler\u001b[0;34m(*args, **kwargs)\u001b[0m\n\u001b[1;32m    148\u001b[0m     \u001b[0mfiltered_tb\u001b[0m \u001b[0;34m=\u001b[0m \u001b[0;32mNone\u001b[0m\u001b[0;34m\u001b[0m\u001b[0;34m\u001b[0m\u001b[0m\n\u001b[1;32m    149\u001b[0m     \u001b[0;32mtry\u001b[0m\u001b[0;34m:\u001b[0m\u001b[0;34m\u001b[0m\u001b[0;34m\u001b[0m\u001b[0m\n\u001b[0;32m--> 150\u001b[0;31m       \u001b[0;32mreturn\u001b[0m \u001b[0mfn\u001b[0m\u001b[0;34m(\u001b[0m\u001b[0;34m*\u001b[0m\u001b[0margs\u001b[0m\u001b[0;34m,\u001b[0m \u001b[0;34m**\u001b[0m\u001b[0mkwargs\u001b[0m\u001b[0;34m)\u001b[0m\u001b[0;34m\u001b[0m\u001b[0;34m\u001b[0m\u001b[0m\n\u001b[0m\u001b[1;32m    151\u001b[0m     \u001b[0;32mexcept\u001b[0m \u001b[0mException\u001b[0m \u001b[0;32mas\u001b[0m \u001b[0me\u001b[0m\u001b[0;34m:\u001b[0m\u001b[0;34m\u001b[0m\u001b[0;34m\u001b[0m\u001b[0m\n\u001b[1;32m    152\u001b[0m       \u001b[0mfiltered_tb\u001b[0m \u001b[0;34m=\u001b[0m \u001b[0m_process_traceback_frames\u001b[0m\u001b[0;34m(\u001b[0m\u001b[0me\u001b[0m\u001b[0;34m.\u001b[0m\u001b[0m__traceback__\u001b[0m\u001b[0;34m)\u001b[0m\u001b[0;34m\u001b[0m\u001b[0;34m\u001b[0m\u001b[0m\n",
            "\u001b[0;32m/usr/local/lib/python3.7/dist-packages/tensorflow/python/eager/def_function.py\u001b[0m in \u001b[0;36m__call__\u001b[0;34m(self, *args, **kwds)\u001b[0m\n\u001b[1;32m    913\u001b[0m \u001b[0;34m\u001b[0m\u001b[0m\n\u001b[1;32m    914\u001b[0m       \u001b[0;32mwith\u001b[0m \u001b[0mOptionalXlaContext\u001b[0m\u001b[0;34m(\u001b[0m\u001b[0mself\u001b[0m\u001b[0;34m.\u001b[0m\u001b[0m_jit_compile\u001b[0m\u001b[0;34m)\u001b[0m\u001b[0;34m:\u001b[0m\u001b[0;34m\u001b[0m\u001b[0;34m\u001b[0m\u001b[0m\n\u001b[0;32m--> 915\u001b[0;31m         \u001b[0mresult\u001b[0m \u001b[0;34m=\u001b[0m \u001b[0mself\u001b[0m\u001b[0;34m.\u001b[0m\u001b[0m_call\u001b[0m\u001b[0;34m(\u001b[0m\u001b[0;34m*\u001b[0m\u001b[0margs\u001b[0m\u001b[0;34m,\u001b[0m \u001b[0;34m**\u001b[0m\u001b[0mkwds\u001b[0m\u001b[0;34m)\u001b[0m\u001b[0;34m\u001b[0m\u001b[0;34m\u001b[0m\u001b[0m\n\u001b[0m\u001b[1;32m    916\u001b[0m \u001b[0;34m\u001b[0m\u001b[0m\n\u001b[1;32m    917\u001b[0m       \u001b[0mnew_tracing_count\u001b[0m \u001b[0;34m=\u001b[0m \u001b[0mself\u001b[0m\u001b[0;34m.\u001b[0m\u001b[0mexperimental_get_tracing_count\u001b[0m\u001b[0;34m(\u001b[0m\u001b[0;34m)\u001b[0m\u001b[0;34m\u001b[0m\u001b[0;34m\u001b[0m\u001b[0m\n",
            "\u001b[0;32m/usr/local/lib/python3.7/dist-packages/tensorflow/python/eager/def_function.py\u001b[0m in \u001b[0;36m_call\u001b[0;34m(self, *args, **kwds)\u001b[0m\n\u001b[1;32m    945\u001b[0m       \u001b[0;31m# In this case we have created variables on the first call, so we run the\u001b[0m\u001b[0;34m\u001b[0m\u001b[0;34m\u001b[0m\u001b[0;34m\u001b[0m\u001b[0m\n\u001b[1;32m    946\u001b[0m       \u001b[0;31m# defunned version which is guaranteed to never create variables.\u001b[0m\u001b[0;34m\u001b[0m\u001b[0;34m\u001b[0m\u001b[0;34m\u001b[0m\u001b[0m\n\u001b[0;32m--> 947\u001b[0;31m       \u001b[0;32mreturn\u001b[0m \u001b[0mself\u001b[0m\u001b[0;34m.\u001b[0m\u001b[0m_stateless_fn\u001b[0m\u001b[0;34m(\u001b[0m\u001b[0;34m*\u001b[0m\u001b[0margs\u001b[0m\u001b[0;34m,\u001b[0m \u001b[0;34m**\u001b[0m\u001b[0mkwds\u001b[0m\u001b[0;34m)\u001b[0m  \u001b[0;31m# pylint: disable=not-callable\u001b[0m\u001b[0;34m\u001b[0m\u001b[0;34m\u001b[0m\u001b[0m\n\u001b[0m\u001b[1;32m    948\u001b[0m     \u001b[0;32melif\u001b[0m \u001b[0mself\u001b[0m\u001b[0;34m.\u001b[0m\u001b[0m_stateful_fn\u001b[0m \u001b[0;32mis\u001b[0m \u001b[0;32mnot\u001b[0m \u001b[0;32mNone\u001b[0m\u001b[0;34m:\u001b[0m\u001b[0;34m\u001b[0m\u001b[0;34m\u001b[0m\u001b[0m\n\u001b[1;32m    949\u001b[0m       \u001b[0;31m# Release the lock early so that multiple threads can perform the call\u001b[0m\u001b[0;34m\u001b[0m\u001b[0;34m\u001b[0m\u001b[0;34m\u001b[0m\u001b[0m\n",
            "\u001b[0;32m/usr/local/lib/python3.7/dist-packages/tensorflow/python/eager/function.py\u001b[0m in \u001b[0;36m__call__\u001b[0;34m(self, *args, **kwargs)\u001b[0m\n\u001b[1;32m   2452\u001b[0m        filtered_flat_args) = self._maybe_define_function(args, kwargs)\n\u001b[1;32m   2453\u001b[0m     return graph_function._call_flat(\n\u001b[0;32m-> 2454\u001b[0;31m         filtered_flat_args, captured_inputs=graph_function.captured_inputs)  # pylint: disable=protected-access\n\u001b[0m\u001b[1;32m   2455\u001b[0m \u001b[0;34m\u001b[0m\u001b[0m\n\u001b[1;32m   2456\u001b[0m   \u001b[0;34m@\u001b[0m\u001b[0mproperty\u001b[0m\u001b[0;34m\u001b[0m\u001b[0;34m\u001b[0m\u001b[0m\n",
            "\u001b[0;32m/usr/local/lib/python3.7/dist-packages/tensorflow/python/eager/function.py\u001b[0m in \u001b[0;36m_call_flat\u001b[0;34m(self, args, captured_inputs, cancellation_manager)\u001b[0m\n\u001b[1;32m   1859\u001b[0m       \u001b[0;31m# No tape is watching; skip to running the function.\u001b[0m\u001b[0;34m\u001b[0m\u001b[0;34m\u001b[0m\u001b[0;34m\u001b[0m\u001b[0m\n\u001b[1;32m   1860\u001b[0m       return self._build_call_outputs(self._inference_function.call(\n\u001b[0;32m-> 1861\u001b[0;31m           ctx, args, cancellation_manager=cancellation_manager))\n\u001b[0m\u001b[1;32m   1862\u001b[0m     forward_backward = self._select_forward_and_backward_functions(\n\u001b[1;32m   1863\u001b[0m         \u001b[0margs\u001b[0m\u001b[0;34m,\u001b[0m\u001b[0;34m\u001b[0m\u001b[0;34m\u001b[0m\u001b[0m\n",
            "\u001b[0;32m/usr/local/lib/python3.7/dist-packages/tensorflow/python/eager/function.py\u001b[0m in \u001b[0;36mcall\u001b[0;34m(self, ctx, args, cancellation_manager)\u001b[0m\n\u001b[1;32m    500\u001b[0m               \u001b[0minputs\u001b[0m\u001b[0;34m=\u001b[0m\u001b[0margs\u001b[0m\u001b[0;34m,\u001b[0m\u001b[0;34m\u001b[0m\u001b[0;34m\u001b[0m\u001b[0m\n\u001b[1;32m    501\u001b[0m               \u001b[0mattrs\u001b[0m\u001b[0;34m=\u001b[0m\u001b[0mattrs\u001b[0m\u001b[0;34m,\u001b[0m\u001b[0;34m\u001b[0m\u001b[0;34m\u001b[0m\u001b[0m\n\u001b[0;32m--> 502\u001b[0;31m               ctx=ctx)\n\u001b[0m\u001b[1;32m    503\u001b[0m         \u001b[0;32melse\u001b[0m\u001b[0;34m:\u001b[0m\u001b[0;34m\u001b[0m\u001b[0;34m\u001b[0m\u001b[0m\n\u001b[1;32m    504\u001b[0m           outputs = execute.execute_with_cancellation(\n",
            "\u001b[0;32m/usr/local/lib/python3.7/dist-packages/tensorflow/python/eager/execute.py\u001b[0m in \u001b[0;36mquick_execute\u001b[0;34m(op_name, num_outputs, inputs, attrs, ctx, name)\u001b[0m\n\u001b[1;32m     53\u001b[0m     \u001b[0mctx\u001b[0m\u001b[0;34m.\u001b[0m\u001b[0mensure_initialized\u001b[0m\u001b[0;34m(\u001b[0m\u001b[0;34m)\u001b[0m\u001b[0;34m\u001b[0m\u001b[0;34m\u001b[0m\u001b[0m\n\u001b[1;32m     54\u001b[0m     tensors = pywrap_tfe.TFE_Py_Execute(ctx._handle, device_name, op_name,\n\u001b[0;32m---> 55\u001b[0;31m                                         inputs, attrs, num_outputs)\n\u001b[0m\u001b[1;32m     56\u001b[0m   \u001b[0;32mexcept\u001b[0m \u001b[0mcore\u001b[0m\u001b[0;34m.\u001b[0m\u001b[0m_NotOkStatusException\u001b[0m \u001b[0;32mas\u001b[0m \u001b[0me\u001b[0m\u001b[0;34m:\u001b[0m\u001b[0;34m\u001b[0m\u001b[0;34m\u001b[0m\u001b[0m\n\u001b[1;32m     57\u001b[0m     \u001b[0;32mif\u001b[0m \u001b[0mname\u001b[0m \u001b[0;32mis\u001b[0m \u001b[0;32mnot\u001b[0m \u001b[0;32mNone\u001b[0m\u001b[0;34m:\u001b[0m\u001b[0;34m\u001b[0m\u001b[0;34m\u001b[0m\u001b[0m\n",
            "\u001b[0;31mKeyboardInterrupt\u001b[0m: "
          ]
        }
      ],
      "source": [
        "results = pd.DataFrame(columns=['start_learning_rate', 'width', 'depth', 'l2_weight', 'train_loss', 'val_loss', 'train_acc', 'val_acc'])\n",
        "\n",
        "start_learning_rates = [1e-5, 1e-4, 1e-3]\n",
        "widths = [256, 512, 1024]\n",
        "depths = [1, 2, 3]\n",
        "l2_weights = [0, 1e-5, 1e-4]\n",
        "\n",
        "for start_learning_rate in start_learning_rates:\n",
        "    for width in widths:\n",
        "        for depth in depths:\n",
        "            for l2_weight in l2_weights:\n",
        "                model = keras.models.Sequential()\n",
        "                model.add(tf.keras.layers.Flatten(input_shape=info.features[\"image\"].shape))# your code (add input layer)\n",
        "                for _ in range(depth):\n",
        "                    model.add(keras.layers.Dense(units=width, activation=\"relu\", kernel_regularizer=keras.regularizers.l2(l2_weight)))\n",
        "                model.add(tf.keras.layers.Dense(10,activation='softmax'))# your code (add output layer)\n",
        "                scheduler = tf.keras.optimizers.schedules.PolynomialDecay(start_learning_rate, epochs * sum(train_occurences) // batch_size, 1e-8, power=1.0)\n",
        "                model.compile(loss=keras.losses.sparse_categorical_crossentropy, optimizer=keras.optimizers.Adam(learning_rate=scheduler), metrics=[keras.metrics.sparse_categorical_accuracy])\n",
        "                model.fit(train_ds,epochs=100,steps_per_epoch= np.sum(train_occurences)//batch_size,validation_data=val_ds,verbose=0)# your code (call fit function with verbose=0)\n",
        "                train_loss, train_acc = model.evaluate(train_ds, steps=np.sum(train_occurences) // batch_size)\n",
        "                val_loss, val_acc = model.evaluate(val_ds)\n",
        "                results_tmp = np.array([start_learning_rate, width, depth, l2_weight, train_loss, val_loss, train_acc, val_acc]).reshape(1, -1)\n",
        "                results = results.append(pd.DataFrame(data=results_tmp, columns=results.columns), ignore_index=True)\n",
        "results.to_csv('results.csv')"
      ]
    },
    {
      "cell_type": "markdown",
      "metadata": {
        "id": "57OSEhIWZKcJ"
      },
      "source": [
        "25. Load the file ```results.csv``` using Pandas and find out which hyperparameter configuration worked best. Train a model ```my_best_model``` using these hyperparameters and evaluate it on ```test_ds```. Apply LRP to at least ten images from ```test_ds``` and visualize the results."
      ]
    },
    {
      "cell_type": "code",
      "execution_count": null,
      "metadata": {
        "id": "lSmRvZCEZKcK"
      },
      "outputs": [],
      "source": [
        "df = pd.read_csv('results.csv')\n",
        "df"
      ]
    },
    {
      "cell_type": "markdown",
      "metadata": {
        "id": "G6Q3f5CpZKcK"
      },
      "source": [
        "### Confusion matrix\n",
        "\n",
        "The confusion matrix is a useful tool to evaluate your model's performance on each specific class rather than looking at an overall accuracy as above.\n",
        "\n",
        "26. Make yourself familiar with the concept of the confusion matrix, complete and execute the code below using your ```my_best_model```. Discuss the results with your teammate. The information under https://www.tensorflow.org/api_docs/python/tf/math/confusion_matrix could be helpful."
      ]
    },
    {
      "cell_type": "code",
      "execution_count": 25,
      "metadata": {
        "id": "DMxQ3tBJZKcL"
      },
      "outputs": [],
      "source": [
        "def show_confusion_matrix(cm, labels):\n",
        "  \n",
        "\n",
        "  plt.figure(figsize=(10, 8))\n",
        "  sns.heatmap(cm, xticklabels=labels, yticklabels=labels, annot=True, fmt='g')\n",
        "  plt.xlabel('Prediction')\n",
        "  plt.ylabel('Label')\n",
        "  plt.show()\n"
      ]
    },
    {
      "cell_type": "code",
      "execution_count": 26,
      "metadata": {
        "colab": {
          "base_uri": "https://localhost:8080/",
          "height": 639
        },
        "id": "VrwuPd9oZKcM",
        "outputId": "e07139a3-b80f-47f9-f1ac-0b9988042400"
      },
      "outputs": [
        {
          "name": "stdout",
          "output_type": "stream",
          "text": [
            "2700/2700 [==============================] - 8s 3ms/step\n"
          ]
        },
        {
          "data": {
            "image/png": "[encoded data removed]",
            "text/plain": [
              "<Figure size 720x576 with 2 Axes>"
            ]
          },
          "metadata": {},
          "output_type": "display_data"
        }
      ],
      "source": [
        "true_test_labels = list(test_ds.map(lambda x,y:y))#list()\n",
        "#print(type(true_test_labels[0]))\n",
        "predicted_test_labels = list(tf.argmax(model.predict(test_ds), axis = 1))\n",
        "#for x,y in test_ds:\n",
        " # predicted_test_labels.append(np.argmax(model.predict(x)))\n",
        "  #true_test_labels.append(y.numpy())\n",
        "num_classes =len(info.features[\"label\"].names)\n",
        "#true_test_labels=np.array(true_test_labels)\n",
        "#predicted_test_labels=np.array(predicted_test_labels)\n",
        "confusion_mtx = tf.math.confusion_matrix(true_test_labels, predicted_test_labels, num_classes)\n",
        "show_confusion_matrix(confusion_mtx, info.features[\"label\"].names)"
      ]
    },
    {
      "cell_type": "markdown",
      "metadata": {
        "id": "yDLFVOR2ZKcO"
      },
      "source": [
        "### Submission due on November 20th\n",
        "\n",
        "27. Submit your completed notebook, your ```my_best_model.h5```, the files you used to carry out hyperparameter tuning on the cluster, and your ```results.csv``` via your group's folder in Stud.IP **not later than November 20th 2022**."
      ]
    }
  ],
  "metadata": {
    "celltoolbar": "Raw Cell Format",
    "colab": {
      "collapsed_sections": [
        "yDLFVOR2ZKcO"
      ],
      "provenance": []
    },
    "kernelspec": {
      "display_name": "Python 3.10.7 64-bit",
      "language": "python",
      "name": "python3"
    },
    "language_info": {
      "codemirror_mode": {
        "name": "ipython",
        "version": 3
      },
      "file_extension": ".py",
      "mimetype": "text/x-python",
      "name": "python",
      "nbconvert_exporter": "python",
      "pygments_lexer": "ipython3",
      "version": "3.10.7"
    },
    "vscode": {
      "interpreter": {
        "hash": "916dbcbb3f70747c44a77c7bcd40155683ae19c65e1c03b4aa3499c5328201f1"
      }
    },
    "widgets": {
      "application/vnd.jupyter.widget-state+json": {
        "007362bb733846368e421e1440558e09": {
          "model_module": "@jupyter-widgets/controls",
          "model_module_version": "1.5.0",
          "model_name": "HTMLModel",
          "state": {
            "_dom_classes": [],
            "_model_module": "@jupyter-widgets/controls",
            "_model_module_version": "1.5.0",
            "_model_name": "HTMLModel",
            "_view_count": null,
            "_view_module": "@jupyter-widgets/controls",
            "_view_module_version": "1.5.0",
            "_view_name": "HTMLView",
            "description": "",
            "description_tooltip": null,
            "layout": "IPY_MODEL_e8d5d1a34f2b4a04a8d1ba4a866cdf5f",
            "placeholder": "​",
            "style": "IPY_MODEL_7622988e86f245f5a0daa0ad7a940cd0",
            "value": " 23373/27000 [00:00&lt;00:00, 90674.52 examples/s]"
          }
        },
        "051bbc8aa692493283d40885f81b3bba": {
          "model_module": "@jupyter-widgets/controls",
          "model_module_version": "1.5.0",
          "model_name": "DescriptionStyleModel",
          "state": {
            "_model_module": "@jupyter-widgets/controls",
            "_model_module_version": "1.5.0",
            "_model_name": "DescriptionStyleModel",
            "_view_count": null,
            "_view_module": "@jupyter-widgets/base",
            "_view_module_version": "1.2.0",
            "_view_name": "StyleView",
            "description_width": ""
          }
        },
        "0688a81fbbf04cec9f8db8eef3c99d45": {
          "model_module": "@jupyter-widgets/controls",
          "model_module_version": "1.5.0",
          "model_name": "FloatProgressModel",
          "state": {
            "_dom_classes": [],
            "_model_module": "@jupyter-widgets/controls",
            "_model_module_version": "1.5.0",
            "_model_name": "FloatProgressModel",
            "_view_count": null,
            "_view_module": "@jupyter-widgets/controls",
            "_view_module_version": "1.5.0",
            "_view_name": "ProgressView",
            "bar_style": "",
            "description": "",
            "description_tooltip": null,
            "layout": "IPY_MODEL_f6ceb1675c75479c8619af4b7a993b59",
            "max": 27000,
            "min": 0,
            "orientation": "horizontal",
            "style": "IPY_MODEL_235af91f32464917b41adba6a28010c4",
            "value": 27000
          }
        },
        "09817ad3c8b14c7f909656da36643d25": {
          "model_module": "@jupyter-widgets/base",
          "model_module_version": "1.2.0",
          "model_name": "LayoutModel",
          "state": {
            "_model_module": "@jupyter-widgets/base",
            "_model_module_version": "1.2.0",
            "_model_name": "LayoutModel",
            "_view_count": null,
            "_view_module": "@jupyter-widgets/base",
            "_view_module_version": "1.2.0",
            "_view_name": "LayoutView",
            "align_content": null,
            "align_items": null,
            "align_self": null,
            "border": null,
            "bottom": null,
            "display": null,
            "flex": null,
            "flex_flow": null,
            "grid_area": null,
            "grid_auto_columns": null,
            "grid_auto_flow": null,
            "grid_auto_rows": null,
            "grid_column": null,
            "grid_gap": null,
            "grid_row": null,
            "grid_template_areas": null,
            "grid_template_columns": null,
            "grid_template_rows": null,
            "height": null,
            "justify_content": null,
            "justify_items": null,
            "left": null,
            "margin": null,
            "max_height": null,
            "max_width": null,
            "min_height": null,
            "min_width": null,
            "object_fit": null,
            "object_position": null,
            "order": null,
            "overflow": null,
            "overflow_x": null,
            "overflow_y": null,
            "padding": null,
            "right": null,
            "top": null,
            "visibility": null,
            "width": null
          }
        },
        "0b211edc470e4a36aca8cc5824b534bc": {
          "model_module": "@jupyter-widgets/controls",
          "model_module_version": "1.5.0",
          "model_name": "HTMLModel",
          "state": {
            "_dom_classes": [],
            "_model_module": "@jupyter-widgets/controls",
            "_model_module_version": "1.5.0",
            "_model_name": "HTMLModel",
            "_view_count": null,
            "_view_module": "@jupyter-widgets/controls",
            "_view_module_version": "1.5.0",
            "_view_name": "HTMLView",
            "description": "",
            "description_tooltip": null,
            "layout": "IPY_MODEL_09817ad3c8b14c7f909656da36643d25",
            "placeholder": "​",
            "style": "IPY_MODEL_051bbc8aa692493283d40885f81b3bba",
            "value": " 1/1 [00:09&lt;00:00,  2.13s/ url]"
          }
        },
        "0dc2f2f81627472eabce975f261426f3": {
          "model_module": "@jupyter-widgets/controls",
          "model_module_version": "1.5.0",
          "model_name": "HTMLModel",
          "state": {
            "_dom_classes": [],
            "_model_module": "@jupyter-widgets/controls",
            "_model_module_version": "1.5.0",
            "_model_name": "HTMLModel",
            "_view_count": null,
            "_view_module": "@jupyter-widgets/controls",
            "_view_module_version": "1.5.0",
            "_view_name": "HTMLView",
            "description": "",
            "description_tooltip": null,
            "layout": "IPY_MODEL_f75eaf66a8d94975bdc3efb5007dd5f2",
            "placeholder": "​",
            "style": "IPY_MODEL_7bc06fe6e915447f83b3168f46116285",
            "value": "Generating splits...: 100%"
          }
        },
        "0e4f1e31197e4a289e5d7e7d6513626c": {
          "model_module": "@jupyter-widgets/controls",
          "model_module_version": "1.5.0",
          "model_name": "HTMLModel",
          "state": {
            "_dom_classes": [],
            "_model_module": "@jupyter-widgets/controls",
            "_model_module_version": "1.5.0",
            "_model_name": "HTMLModel",
            "_view_count": null,
            "_view_module": "@jupyter-widgets/controls",
            "_view_module_version": "1.5.0",
            "_view_name": "HTMLView",
            "description": "",
            "description_tooltip": null,
            "layout": "IPY_MODEL_c40203271eba49de96e5ef57152b91ef",
            "placeholder": "​",
            "style": "IPY_MODEL_e203a7848da748fda57de8fb897a1874",
            "value": " 1/1 [00:08&lt;00:00,  8.86s/ file]"
          }
        },
        "12ab0a0e25904e378edff1f0cb7c2de6": {
          "model_module": "@jupyter-widgets/base",
          "model_module_version": "1.2.0",
          "model_name": "LayoutModel",
          "state": {
            "_model_module": "@jupyter-widgets/base",
            "_model_module_version": "1.2.0",
            "_model_name": "LayoutModel",
            "_view_count": null,
            "_view_module": "@jupyter-widgets/base",
            "_view_module_version": "1.2.0",
            "_view_name": "LayoutView",
            "align_content": null,
            "align_items": null,
            "align_self": null,
            "border": null,
            "bottom": null,
            "display": null,
            "flex": null,
            "flex_flow": null,
            "grid_area": null,
            "grid_auto_columns": null,
            "grid_auto_flow": null,
            "grid_auto_rows": null,
            "grid_column": null,
            "grid_gap": null,
            "grid_row": null,
            "grid_template_areas": null,
            "grid_template_columns": null,
            "grid_template_rows": null,
            "height": null,
            "justify_content": null,
            "justify_items": null,
            "left": null,
            "margin": null,
            "max_height": null,
            "max_width": null,
            "min_height": null,
            "min_width": null,
            "object_fit": null,
            "object_position": null,
            "order": null,
            "overflow": null,
            "overflow_x": null,
            "overflow_y": null,
            "padding": null,
            "right": null,
            "top": null,
            "visibility": "hidden",
            "width": null
          }
        },
        "158c7ba61cc54b6fb6369321d579d86f": {
          "model_module": "@jupyter-widgets/base",
          "model_module_version": "1.2.0",
          "model_name": "LayoutModel",
          "state": {
            "_model_module": "@jupyter-widgets/base",
            "_model_module_version": "1.2.0",
            "_model_name": "LayoutModel",
            "_view_count": null,
            "_view_module": "@jupyter-widgets/base",
            "_view_module_version": "1.2.0",
            "_view_name": "LayoutView",
            "align_content": null,
            "align_items": null,
            "align_self": null,
            "border": null,
            "bottom": null,
            "display": null,
            "flex": null,
            "flex_flow": null,
            "grid_area": null,
            "grid_auto_columns": null,
            "grid_auto_flow": null,
            "grid_auto_rows": null,
            "grid_column": null,
            "grid_gap": null,
            "grid_row": null,
            "grid_template_areas": null,
            "grid_template_columns": null,
            "grid_template_rows": null,
            "height": null,
            "justify_content": null,
            "justify_items": null,
            "left": null,
            "margin": null,
            "max_height": null,
            "max_width": null,
            "min_height": null,
            "min_width": null,
            "object_fit": null,
            "object_position": null,
            "order": null,
            "overflow": null,
            "overflow_x": null,
            "overflow_y": null,
            "padding": null,
            "right": null,
            "top": null,
            "visibility": "hidden",
            "width": null
          }
        },
        "20298eb2561941aba21d691ec09f5c24": {
          "model_module": "@jupyter-widgets/base",
          "model_module_version": "1.2.0",
          "model_name": "LayoutModel",
          "state": {
            "_model_module": "@jupyter-widgets/base",
            "_model_module_version": "1.2.0",
            "_model_name": "LayoutModel",
            "_view_count": null,
            "_view_module": "@jupyter-widgets/base",
            "_view_module_version": "1.2.0",
            "_view_name": "LayoutView",
            "align_content": null,
            "align_items": null,
            "align_self": null,
            "border": null,
            "bottom": null,
            "display": null,
            "flex": null,
            "flex_flow": null,
            "grid_area": null,
            "grid_auto_columns": null,
            "grid_auto_flow": null,
            "grid_auto_rows": null,
            "grid_column": null,
            "grid_gap": null,
            "grid_row": null,
            "grid_template_areas": null,
            "grid_template_columns": null,
            "grid_template_rows": null,
            "height": null,
            "justify_content": null,
            "justify_items": null,
            "left": null,
            "margin": null,
            "max_height": null,
            "max_width": null,
            "min_height": null,
            "min_width": null,
            "object_fit": null,
            "object_position": null,
            "order": null,
            "overflow": null,
            "overflow_x": null,
            "overflow_y": null,
            "padding": null,
            "right": null,
            "top": null,
            "visibility": null,
            "width": null
          }
        },
        "235af91f32464917b41adba6a28010c4": {
          "model_module": "@jupyter-widgets/controls",
          "model_module_version": "1.5.0",
          "model_name": "ProgressStyleModel",
          "state": {
            "_model_module": "@jupyter-widgets/controls",
            "_model_module_version": "1.5.0",
            "_model_name": "ProgressStyleModel",
            "_view_count": null,
            "_view_module": "@jupyter-widgets/base",
            "_view_module_version": "1.2.0",
            "_view_name": "StyleView",
            "bar_color": null,
            "description_width": ""
          }
        },
        "29256f7f41084c0c872d6648cc1709c0": {
          "model_module": "@jupyter-widgets/base",
          "model_module_version": "1.2.0",
          "model_name": "LayoutModel",
          "state": {
            "_model_module": "@jupyter-widgets/base",
            "_model_module_version": "1.2.0",
            "_model_name": "LayoutModel",
            "_view_count": null,
            "_view_module": "@jupyter-widgets/base",
            "_view_module_version": "1.2.0",
            "_view_name": "LayoutView",
            "align_content": null,
            "align_items": null,
            "align_self": null,
            "border": null,
            "bottom": null,
            "display": null,
            "flex": null,
            "flex_flow": null,
            "grid_area": null,
            "grid_auto_columns": null,
            "grid_auto_flow": null,
            "grid_auto_rows": null,
            "grid_column": null,
            "grid_gap": null,
            "grid_row": null,
            "grid_template_areas": null,
            "grid_template_columns": null,
            "grid_template_rows": null,
            "height": null,
            "justify_content": null,
            "justify_items": null,
            "left": null,
            "margin": null,
            "max_height": null,
            "max_width": null,
            "min_height": null,
            "min_width": null,
            "object_fit": null,
            "object_position": null,
            "order": null,
            "overflow": null,
            "overflow_x": null,
            "overflow_y": null,
            "padding": null,
            "right": null,
            "top": null,
            "visibility": null,
            "width": "20px"
          }
        },
        "2bfee93d31be42b8a80e35c05905f7e7": {
          "model_module": "@jupyter-widgets/base",
          "model_module_version": "1.2.0",
          "model_name": "LayoutModel",
          "state": {
            "_model_module": "@jupyter-widgets/base",
            "_model_module_version": "1.2.0",
            "_model_name": "LayoutModel",
            "_view_count": null,
            "_view_module": "@jupyter-widgets/base",
            "_view_module_version": "1.2.0",
            "_view_name": "LayoutView",
            "align_content": null,
            "align_items": null,
            "align_self": null,
            "border": null,
            "bottom": null,
            "display": null,
            "flex": null,
            "flex_flow": null,
            "grid_area": null,
            "grid_auto_columns": null,
            "grid_auto_flow": null,
            "grid_auto_rows": null,
            "grid_column": null,
            "grid_gap": null,
            "grid_row": null,
            "grid_template_areas": null,
            "grid_template_columns": null,
            "grid_template_rows": null,
            "height": null,
            "justify_content": null,
            "justify_items": null,
            "left": null,
            "margin": null,
            "max_height": null,
            "max_width": null,
            "min_height": null,
            "min_width": null,
            "object_fit": null,
            "object_position": null,
            "order": null,
            "overflow": null,
            "overflow_x": null,
            "overflow_y": null,
            "padding": null,
            "right": null,
            "top": null,
            "visibility": null,
            "width": null
          }
        },
        "2ef59866783f4c728ed56b2ee5287f26": {
          "model_module": "@jupyter-widgets/base",
          "model_module_version": "1.2.0",
          "model_name": "LayoutModel",
          "state": {
            "_model_module": "@jupyter-widgets/base",
            "_model_module_version": "1.2.0",
            "_model_name": "LayoutModel",
            "_view_count": null,
            "_view_module": "@jupyter-widgets/base",
            "_view_module_version": "1.2.0",
            "_view_name": "LayoutView",
            "align_content": null,
            "align_items": null,
            "align_self": null,
            "border": null,
            "bottom": null,
            "display": null,
            "flex": null,
            "flex_flow": null,
            "grid_area": null,
            "grid_auto_columns": null,
            "grid_auto_flow": null,
            "grid_auto_rows": null,
            "grid_column": null,
            "grid_gap": null,
            "grid_row": null,
            "grid_template_areas": null,
            "grid_template_columns": null,
            "grid_template_rows": null,
            "height": null,
            "justify_content": null,
            "justify_items": null,
            "left": null,
            "margin": null,
            "max_height": null,
            "max_width": null,
            "min_height": null,
            "min_width": null,
            "object_fit": null,
            "object_position": null,
            "order": null,
            "overflow": null,
            "overflow_x": null,
            "overflow_y": null,
            "padding": null,
            "right": null,
            "top": null,
            "visibility": null,
            "width": null
          }
        },
        "30e87881246c42938a22642b80c265ab": {
          "model_module": "@jupyter-widgets/base",
          "model_module_version": "1.2.0",
          "model_name": "LayoutModel",
          "state": {
            "_model_module": "@jupyter-widgets/base",
            "_model_module_version": "1.2.0",
            "_model_name": "LayoutModel",
            "_view_count": null,
            "_view_module": "@jupyter-widgets/base",
            "_view_module_version": "1.2.0",
            "_view_name": "LayoutView",
            "align_content": null,
            "align_items": null,
            "align_self": null,
            "border": null,
            "bottom": null,
            "display": null,
            "flex": null,
            "flex_flow": null,
            "grid_area": null,
            "grid_auto_columns": null,
            "grid_auto_flow": null,
            "grid_auto_rows": null,
            "grid_column": null,
            "grid_gap": null,
            "grid_row": null,
            "grid_template_areas": null,
            "grid_template_columns": null,
            "grid_template_rows": null,
            "height": null,
            "justify_content": null,
            "justify_items": null,
            "left": null,
            "margin": null,
            "max_height": null,
            "max_width": null,
            "min_height": null,
            "min_width": null,
            "object_fit": null,
            "object_position": null,
            "order": null,
            "overflow": null,
            "overflow_x": null,
            "overflow_y": null,
            "padding": null,
            "right": null,
            "top": null,
            "visibility": null,
            "width": null
          }
        },
        "36b1dad106934670aacea20c690c6d2c": {
          "model_module": "@jupyter-widgets/controls",
          "model_module_version": "1.5.0",
          "model_name": "HBoxModel",
          "state": {
            "_dom_classes": [],
            "_model_module": "@jupyter-widgets/controls",
            "_model_module_version": "1.5.0",
            "_model_name": "HBoxModel",
            "_view_count": null,
            "_view_module": "@jupyter-widgets/controls",
            "_view_module_version": "1.5.0",
            "_view_name": "HBoxView",
            "box_style": "",
            "children": [
              "IPY_MODEL_b9597c04f654466cb3f3fa849bc6e24a",
              "IPY_MODEL_e1b1e8440356436f974944562e32ca5e",
              "IPY_MODEL_0b211edc470e4a36aca8cc5824b534bc"
            ],
            "layout": "IPY_MODEL_20298eb2561941aba21d691ec09f5c24"
          }
        },
        "3ac4dd2deb1a4815b305e2998dd91afd": {
          "model_module": "@jupyter-widgets/controls",
          "model_module_version": "1.5.0",
          "model_name": "HTMLModel",
          "state": {
            "_dom_classes": [],
            "_model_module": "@jupyter-widgets/controls",
            "_model_module_version": "1.5.0",
            "_model_name": "HTMLModel",
            "_view_count": null,
            "_view_module": "@jupyter-widgets/controls",
            "_view_module_version": "1.5.0",
            "_view_name": "HTMLView",
            "description": "",
            "description_tooltip": null,
            "layout": "IPY_MODEL_e8e1f98bc15349109c8b357dbed3dbd8",
            "placeholder": "​",
            "style": "IPY_MODEL_f2918b5e92884c3da4152e7197af9196",
            "value": " 26964/27000 [00:10&lt;00:00, 2799.89 examples/s]"
          }
        },
        "42ccc9322e344550ac83c202de436c56": {
          "model_module": "@jupyter-widgets/controls",
          "model_module_version": "1.5.0",
          "model_name": "DescriptionStyleModel",
          "state": {
            "_model_module": "@jupyter-widgets/controls",
            "_model_module_version": "1.5.0",
            "_model_name": "DescriptionStyleModel",
            "_view_count": null,
            "_view_module": "@jupyter-widgets/base",
            "_view_module_version": "1.2.0",
            "_view_name": "StyleView",
            "description_width": ""
          }
        },
        "435afe51b620426dbe513f647d3be936": {
          "model_module": "@jupyter-widgets/base",
          "model_module_version": "1.2.0",
          "model_name": "LayoutModel",
          "state": {
            "_model_module": "@jupyter-widgets/base",
            "_model_module_version": "1.2.0",
            "_model_name": "LayoutModel",
            "_view_count": null,
            "_view_module": "@jupyter-widgets/base",
            "_view_module_version": "1.2.0",
            "_view_name": "LayoutView",
            "align_content": null,
            "align_items": null,
            "align_self": null,
            "border": null,
            "bottom": null,
            "display": null,
            "flex": null,
            "flex_flow": null,
            "grid_area": null,
            "grid_auto_columns": null,
            "grid_auto_flow": null,
            "grid_auto_rows": null,
            "grid_column": null,
            "grid_gap": null,
            "grid_row": null,
            "grid_template_areas": null,
            "grid_template_columns": null,
            "grid_template_rows": null,
            "height": null,
            "justify_content": null,
            "justify_items": null,
            "left": null,
            "margin": null,
            "max_height": null,
            "max_width": null,
            "min_height": null,
            "min_width": null,
            "object_fit": null,
            "object_position": null,
            "order": null,
            "overflow": null,
            "overflow_x": null,
            "overflow_y": null,
            "padding": null,
            "right": null,
            "top": null,
            "visibility": null,
            "width": null
          }
        },
        "4da7a25ffde04086b3e839d8b16605e8": {
          "model_module": "@jupyter-widgets/controls",
          "model_module_version": "1.5.0",
          "model_name": "ProgressStyleModel",
          "state": {
            "_model_module": "@jupyter-widgets/controls",
            "_model_module_version": "1.5.0",
            "_model_name": "ProgressStyleModel",
            "_view_count": null,
            "_view_module": "@jupyter-widgets/base",
            "_view_module_version": "1.2.0",
            "_view_name": "StyleView",
            "bar_color": null,
            "description_width": ""
          }
        },
        "52e908b08fa0442ab743e27451201c45": {
          "model_module": "@jupyter-widgets/controls",
          "model_module_version": "1.5.0",
          "model_name": "HBoxModel",
          "state": {
            "_dom_classes": [],
            "_model_module": "@jupyter-widgets/controls",
            "_model_module_version": "1.5.0",
            "_model_name": "HBoxModel",
            "_view_count": null,
            "_view_module": "@jupyter-widgets/controls",
            "_view_module_version": "1.5.0",
            "_view_name": "HBoxView",
            "box_style": "",
            "children": [
              "IPY_MODEL_f139e79414454efca49ceb37401b0566",
              "IPY_MODEL_9f0b3dde802648cb9da948d1f0ba801f",
              "IPY_MODEL_007362bb733846368e421e1440558e09"
            ],
            "layout": "IPY_MODEL_12ab0a0e25904e378edff1f0cb7c2de6"
          }
        },
        "5bc83d600ec940aaa2049d36a34dd1e3": {
          "model_module": "@jupyter-widgets/controls",
          "model_module_version": "1.5.0",
          "model_name": "ProgressStyleModel",
          "state": {
            "_model_module": "@jupyter-widgets/controls",
            "_model_module_version": "1.5.0",
            "_model_name": "ProgressStyleModel",
            "_view_count": null,
            "_view_module": "@jupyter-widgets/base",
            "_view_module_version": "1.2.0",
            "_view_name": "StyleView",
            "bar_color": null,
            "description_width": ""
          }
        },
        "61cba1817a70473ba0ee7fd0cfc7d3da": {
          "model_module": "@jupyter-widgets/controls",
          "model_module_version": "1.5.0",
          "model_name": "DescriptionStyleModel",
          "state": {
            "_model_module": "@jupyter-widgets/controls",
            "_model_module_version": "1.5.0",
            "_model_name": "DescriptionStyleModel",
            "_view_count": null,
            "_view_module": "@jupyter-widgets/base",
            "_view_module_version": "1.2.0",
            "_view_name": "StyleView",
            "description_width": ""
          }
        },
        "6c7bf7b58a544a7cb52be52ade9f844a": {
          "model_module": "@jupyter-widgets/controls",
          "model_module_version": "1.5.0",
          "model_name": "DescriptionStyleModel",
          "state": {
            "_model_module": "@jupyter-widgets/controls",
            "_model_module_version": "1.5.0",
            "_model_name": "DescriptionStyleModel",
            "_view_count": null,
            "_view_module": "@jupyter-widgets/base",
            "_view_module_version": "1.2.0",
            "_view_name": "StyleView",
            "description_width": ""
          }
        },
        "6ca4a94201614353abd488639fb8dbe0": {
          "model_module": "@jupyter-widgets/controls",
          "model_module_version": "1.5.0",
          "model_name": "DescriptionStyleModel",
          "state": {
            "_model_module": "@jupyter-widgets/controls",
            "_model_module_version": "1.5.0",
            "_model_name": "DescriptionStyleModel",
            "_view_count": null,
            "_view_module": "@jupyter-widgets/base",
            "_view_module_version": "1.2.0",
            "_view_name": "StyleView",
            "description_width": ""
          }
        },
        "74abf9d7858b46b9afdc14d6ef2777f5": {
          "model_module": "@jupyter-widgets/base",
          "model_module_version": "1.2.0",
          "model_name": "LayoutModel",
          "state": {
            "_model_module": "@jupyter-widgets/base",
            "_model_module_version": "1.2.0",
            "_model_name": "LayoutModel",
            "_view_count": null,
            "_view_module": "@jupyter-widgets/base",
            "_view_module_version": "1.2.0",
            "_view_name": "LayoutView",
            "align_content": null,
            "align_items": null,
            "align_self": null,
            "border": null,
            "bottom": null,
            "display": null,
            "flex": null,
            "flex_flow": null,
            "grid_area": null,
            "grid_auto_columns": null,
            "grid_auto_flow": null,
            "grid_auto_rows": null,
            "grid_column": null,
            "grid_gap": null,
            "grid_row": null,
            "grid_template_areas": null,
            "grid_template_columns": null,
            "grid_template_rows": null,
            "height": null,
            "justify_content": null,
            "justify_items": null,
            "left": null,
            "margin": null,
            "max_height": null,
            "max_width": null,
            "min_height": null,
            "min_width": null,
            "object_fit": null,
            "object_position": null,
            "order": null,
            "overflow": null,
            "overflow_x": null,
            "overflow_y": null,
            "padding": null,
            "right": null,
            "top": null,
            "visibility": null,
            "width": null
          }
        },
        "7622988e86f245f5a0daa0ad7a940cd0": {
          "model_module": "@jupyter-widgets/controls",
          "model_module_version": "1.5.0",
          "model_name": "DescriptionStyleModel",
          "state": {
            "_model_module": "@jupyter-widgets/controls",
            "_model_module_version": "1.5.0",
            "_model_name": "DescriptionStyleModel",
            "_view_count": null,
            "_view_module": "@jupyter-widgets/base",
            "_view_module_version": "1.2.0",
            "_view_name": "StyleView",
            "description_width": ""
          }
        },
        "7b5b58916baa4722a74f512fa7aa2006": {
          "model_module": "@jupyter-widgets/controls",
          "model_module_version": "1.5.0",
          "model_name": "FloatProgressModel",
          "state": {
            "_dom_classes": [],
            "_model_module": "@jupyter-widgets/controls",
            "_model_module_version": "1.5.0",
            "_model_name": "FloatProgressModel",
            "_view_count": null,
            "_view_module": "@jupyter-widgets/controls",
            "_view_module_version": "1.5.0",
            "_view_name": "ProgressView",
            "bar_style": "",
            "description": "",
            "description_tooltip": null,
            "layout": "IPY_MODEL_df04855e552b40e491a3020d14ce8dab",
            "max": 1,
            "min": 0,
            "orientation": "horizontal",
            "style": "IPY_MODEL_5bc83d600ec940aaa2049d36a34dd1e3",
            "value": 1
          }
        },
        "7bc06fe6e915447f83b3168f46116285": {
          "model_module": "@jupyter-widgets/controls",
          "model_module_version": "1.5.0",
          "model_name": "DescriptionStyleModel",
          "state": {
            "_model_module": "@jupyter-widgets/controls",
            "_model_module_version": "1.5.0",
            "_model_name": "DescriptionStyleModel",
            "_view_count": null,
            "_view_module": "@jupyter-widgets/base",
            "_view_module_version": "1.2.0",
            "_view_name": "StyleView",
            "description_width": ""
          }
        },
        "83d2ac7ee17f4b259f923c0208738b39": {
          "model_module": "@jupyter-widgets/controls",
          "model_module_version": "1.5.0",
          "model_name": "ProgressStyleModel",
          "state": {
            "_model_module": "@jupyter-widgets/controls",
            "_model_module_version": "1.5.0",
            "_model_name": "ProgressStyleModel",
            "_view_count": null,
            "_view_module": "@jupyter-widgets/base",
            "_view_module_version": "1.2.0",
            "_view_name": "StyleView",
            "bar_color": null,
            "description_width": ""
          }
        },
        "86238c0849bf4a148618bd91829d182a": {
          "model_module": "@jupyter-widgets/controls",
          "model_module_version": "1.5.0",
          "model_name": "ProgressStyleModel",
          "state": {
            "_model_module": "@jupyter-widgets/controls",
            "_model_module_version": "1.5.0",
            "_model_name": "ProgressStyleModel",
            "_view_count": null,
            "_view_module": "@jupyter-widgets/base",
            "_view_module_version": "1.2.0",
            "_view_name": "StyleView",
            "bar_color": null,
            "description_width": ""
          }
        },
        "8c3ba80e16624b8f9fdf662155ceb0ee": {
          "model_module": "@jupyter-widgets/controls",
          "model_module_version": "1.5.0",
          "model_name": "HBoxModel",
          "state": {
            "_dom_classes": [],
            "_model_module": "@jupyter-widgets/controls",
            "_model_module_version": "1.5.0",
            "_model_name": "HBoxModel",
            "_view_count": null,
            "_view_module": "@jupyter-widgets/controls",
            "_view_module_version": "1.5.0",
            "_view_name": "HBoxView",
            "box_style": "",
            "children": [
              "IPY_MODEL_fd67aae2c89a4d6e97e255c108d4cd70",
              "IPY_MODEL_d5f09449e2f249e39cc8df83c3b8fadb",
              "IPY_MODEL_0e4f1e31197e4a289e5d7e7d6513626c"
            ],
            "layout": "IPY_MODEL_435afe51b620426dbe513f647d3be936"
          }
        },
        "8d639fffe937462c9f666056bf4e597d": {
          "model_module": "@jupyter-widgets/controls",
          "model_module_version": "1.5.0",
          "model_name": "HBoxModel",
          "state": {
            "_dom_classes": [],
            "_model_module": "@jupyter-widgets/controls",
            "_model_module_version": "1.5.0",
            "_model_name": "HBoxModel",
            "_view_count": null,
            "_view_module": "@jupyter-widgets/controls",
            "_view_module_version": "1.5.0",
            "_view_name": "HBoxView",
            "box_style": "",
            "children": [
              "IPY_MODEL_e03cec48856a4afdbf05840d797195be",
              "IPY_MODEL_f08afe339a5b43729d9eee8588ce0d65",
              "IPY_MODEL_a9a9693d2fd4488d86101e3ad935efce"
            ],
            "layout": "IPY_MODEL_d3d2a89f84f74c1ab10f9bfb2f27eed7"
          }
        },
        "8eb27ff5a79243179be05ff0317cba83": {
          "model_module": "@jupyter-widgets/controls",
          "model_module_version": "1.5.0",
          "model_name": "DescriptionStyleModel",
          "state": {
            "_model_module": "@jupyter-widgets/controls",
            "_model_module_version": "1.5.0",
            "_model_name": "DescriptionStyleModel",
            "_view_count": null,
            "_view_module": "@jupyter-widgets/base",
            "_view_module_version": "1.2.0",
            "_view_name": "StyleView",
            "description_width": ""
          }
        },
        "9f0b3dde802648cb9da948d1f0ba801f": {
          "model_module": "@jupyter-widgets/controls",
          "model_module_version": "1.5.0",
          "model_name": "FloatProgressModel",
          "state": {
            "_dom_classes": [],
            "_model_module": "@jupyter-widgets/controls",
            "_model_module_version": "1.5.0",
            "_model_name": "FloatProgressModel",
            "_view_count": null,
            "_view_module": "@jupyter-widgets/controls",
            "_view_module_version": "1.5.0",
            "_view_name": "ProgressView",
            "bar_style": "",
            "description": "",
            "description_tooltip": null,
            "layout": "IPY_MODEL_30e87881246c42938a22642b80c265ab",
            "max": 27000,
            "min": 0,
            "orientation": "horizontal",
            "style": "IPY_MODEL_4da7a25ffde04086b3e839d8b16605e8",
            "value": 27000
          }
        },
        "a090d371617b40f58d95724c7afa24e2": {
          "model_module": "@jupyter-widgets/controls",
          "model_module_version": "1.5.0",
          "model_name": "HTMLModel",
          "state": {
            "_dom_classes": [],
            "_model_module": "@jupyter-widgets/controls",
            "_model_module_version": "1.5.0",
            "_model_name": "HTMLModel",
            "_view_count": null,
            "_view_module": "@jupyter-widgets/controls",
            "_view_module_version": "1.5.0",
            "_view_name": "HTMLView",
            "description": "",
            "description_tooltip": null,
            "layout": "IPY_MODEL_ba2b8e281e7c49ac8872390aaabfe0d9",
            "placeholder": "​",
            "style": "IPY_MODEL_8eb27ff5a79243179be05ff0317cba83",
            "value": "Generating train examples...: 100%"
          }
        },
        "a4845b6a31af47b5be8d24810e601b37": {
          "model_module": "@jupyter-widgets/controls",
          "model_module_version": "1.5.0",
          "model_name": "DescriptionStyleModel",
          "state": {
            "_model_module": "@jupyter-widgets/controls",
            "_model_module_version": "1.5.0",
            "_model_name": "DescriptionStyleModel",
            "_view_count": null,
            "_view_module": "@jupyter-widgets/base",
            "_view_module_version": "1.2.0",
            "_view_name": "StyleView",
            "description_width": ""
          }
        },
        "a9a9693d2fd4488d86101e3ad935efce": {
          "model_module": "@jupyter-widgets/controls",
          "model_module_version": "1.5.0",
          "model_name": "HTMLModel",
          "state": {
            "_dom_classes": [],
            "_model_module": "@jupyter-widgets/controls",
            "_model_module_version": "1.5.0",
            "_model_name": "HTMLModel",
            "_view_count": null,
            "_view_module": "@jupyter-widgets/controls",
            "_view_module_version": "1.5.0",
            "_view_name": "HTMLView",
            "description": "",
            "description_tooltip": null,
            "layout": "IPY_MODEL_2ef59866783f4c728ed56b2ee5287f26",
            "placeholder": "​",
            "style": "IPY_MODEL_6ca4a94201614353abd488639fb8dbe0",
            "value": " 89/89 [00:08&lt;00:00, 51.04 MiB/s]"
          }
        },
        "ad91b011311d4a93a681523ccdae7538": {
          "model_module": "@jupyter-widgets/base",
          "model_module_version": "1.2.0",
          "model_name": "LayoutModel",
          "state": {
            "_model_module": "@jupyter-widgets/base",
            "_model_module_version": "1.2.0",
            "_model_name": "LayoutModel",
            "_view_count": null,
            "_view_module": "@jupyter-widgets/base",
            "_view_module_version": "1.2.0",
            "_view_name": "LayoutView",
            "align_content": null,
            "align_items": null,
            "align_self": null,
            "border": null,
            "bottom": null,
            "display": null,
            "flex": null,
            "flex_flow": null,
            "grid_area": null,
            "grid_auto_columns": null,
            "grid_auto_flow": null,
            "grid_auto_rows": null,
            "grid_column": null,
            "grid_gap": null,
            "grid_row": null,
            "grid_template_areas": null,
            "grid_template_columns": null,
            "grid_template_rows": null,
            "height": null,
            "justify_content": null,
            "justify_items": null,
            "left": null,
            "margin": null,
            "max_height": null,
            "max_width": null,
            "min_height": null,
            "min_width": null,
            "object_fit": null,
            "object_position": null,
            "order": null,
            "overflow": null,
            "overflow_x": null,
            "overflow_y": null,
            "padding": null,
            "right": null,
            "top": null,
            "visibility": null,
            "width": null
          }
        },
        "b5371f09807f453f91532e217b43753f": {
          "model_module": "@jupyter-widgets/base",
          "model_module_version": "1.2.0",
          "model_name": "LayoutModel",
          "state": {
            "_model_module": "@jupyter-widgets/base",
            "_model_module_version": "1.2.0",
            "_model_name": "LayoutModel",
            "_view_count": null,
            "_view_module": "@jupyter-widgets/base",
            "_view_module_version": "1.2.0",
            "_view_name": "LayoutView",
            "align_content": null,
            "align_items": null,
            "align_self": null,
            "border": null,
            "bottom": null,
            "display": null,
            "flex": null,
            "flex_flow": null,
            "grid_area": null,
            "grid_auto_columns": null,
            "grid_auto_flow": null,
            "grid_auto_rows": null,
            "grid_column": null,
            "grid_gap": null,
            "grid_row": null,
            "grid_template_areas": null,
            "grid_template_columns": null,
            "grid_template_rows": null,
            "height": null,
            "justify_content": null,
            "justify_items": null,
            "left": null,
            "margin": null,
            "max_height": null,
            "max_width": null,
            "min_height": null,
            "min_width": null,
            "object_fit": null,
            "object_position": null,
            "order": null,
            "overflow": null,
            "overflow_x": null,
            "overflow_y": null,
            "padding": null,
            "right": null,
            "top": null,
            "visibility": null,
            "width": "20px"
          }
        },
        "b686bb8c87e64ef591705c4376e3efcc": {
          "model_module": "@jupyter-widgets/base",
          "model_module_version": "1.2.0",
          "model_name": "LayoutModel",
          "state": {
            "_model_module": "@jupyter-widgets/base",
            "_model_module_version": "1.2.0",
            "_model_name": "LayoutModel",
            "_view_count": null,
            "_view_module": "@jupyter-widgets/base",
            "_view_module_version": "1.2.0",
            "_view_name": "LayoutView",
            "align_content": null,
            "align_items": null,
            "align_self": null,
            "border": null,
            "bottom": null,
            "display": null,
            "flex": null,
            "flex_flow": null,
            "grid_area": null,
            "grid_auto_columns": null,
            "grid_auto_flow": null,
            "grid_auto_rows": null,
            "grid_column": null,
            "grid_gap": null,
            "grid_row": null,
            "grid_template_areas": null,
            "grid_template_columns": null,
            "grid_template_rows": null,
            "height": null,
            "justify_content": null,
            "justify_items": null,
            "left": null,
            "margin": null,
            "max_height": null,
            "max_width": null,
            "min_height": null,
            "min_width": null,
            "object_fit": null,
            "object_position": null,
            "order": null,
            "overflow": null,
            "overflow_x": null,
            "overflow_y": null,
            "padding": null,
            "right": null,
            "top": null,
            "visibility": null,
            "width": null
          }
        },
        "b9597c04f654466cb3f3fa849bc6e24a": {
          "model_module": "@jupyter-widgets/controls",
          "model_module_version": "1.5.0",
          "model_name": "HTMLModel",
          "state": {
            "_dom_classes": [],
            "_model_module": "@jupyter-widgets/controls",
            "_model_module_version": "1.5.0",
            "_model_name": "HTMLModel",
            "_view_count": null,
            "_view_module": "@jupyter-widgets/controls",
            "_view_module_version": "1.5.0",
            "_view_name": "HTMLView",
            "description": "",
            "description_tooltip": null,
            "layout": "IPY_MODEL_bf9dc0167f89472e8d1fa47c29ef9645",
            "placeholder": "​",
            "style": "IPY_MODEL_6c7bf7b58a544a7cb52be52ade9f844a",
            "value": "Dl Completed...: 100%"
          }
        },
        "ba2b8e281e7c49ac8872390aaabfe0d9": {
          "model_module": "@jupyter-widgets/base",
          "model_module_version": "1.2.0",
          "model_name": "LayoutModel",
          "state": {
            "_model_module": "@jupyter-widgets/base",
            "_model_module_version": "1.2.0",
            "_model_name": "LayoutModel",
            "_view_count": null,
            "_view_module": "@jupyter-widgets/base",
            "_view_module_version": "1.2.0",
            "_view_name": "LayoutView",
            "align_content": null,
            "align_items": null,
            "align_self": null,
            "border": null,
            "bottom": null,
            "display": null,
            "flex": null,
            "flex_flow": null,
            "grid_area": null,
            "grid_auto_columns": null,
            "grid_auto_flow": null,
            "grid_auto_rows": null,
            "grid_column": null,
            "grid_gap": null,
            "grid_row": null,
            "grid_template_areas": null,
            "grid_template_columns": null,
            "grid_template_rows": null,
            "height": null,
            "justify_content": null,
            "justify_items": null,
            "left": null,
            "margin": null,
            "max_height": null,
            "max_width": null,
            "min_height": null,
            "min_width": null,
            "object_fit": null,
            "object_position": null,
            "order": null,
            "overflow": null,
            "overflow_x": null,
            "overflow_y": null,
            "padding": null,
            "right": null,
            "top": null,
            "visibility": null,
            "width": null
          }
        },
        "bf9dc0167f89472e8d1fa47c29ef9645": {
          "model_module": "@jupyter-widgets/base",
          "model_module_version": "1.2.0",
          "model_name": "LayoutModel",
          "state": {
            "_model_module": "@jupyter-widgets/base",
            "_model_module_version": "1.2.0",
            "_model_name": "LayoutModel",
            "_view_count": null,
            "_view_module": "@jupyter-widgets/base",
            "_view_module_version": "1.2.0",
            "_view_name": "LayoutView",
            "align_content": null,
            "align_items": null,
            "align_self": null,
            "border": null,
            "bottom": null,
            "display": null,
            "flex": null,
            "flex_flow": null,
            "grid_area": null,
            "grid_auto_columns": null,
            "grid_auto_flow": null,
            "grid_auto_rows": null,
            "grid_column": null,
            "grid_gap": null,
            "grid_row": null,
            "grid_template_areas": null,
            "grid_template_columns": null,
            "grid_template_rows": null,
            "height": null,
            "justify_content": null,
            "justify_items": null,
            "left": null,
            "margin": null,
            "max_height": null,
            "max_width": null,
            "min_height": null,
            "min_width": null,
            "object_fit": null,
            "object_position": null,
            "order": null,
            "overflow": null,
            "overflow_x": null,
            "overflow_y": null,
            "padding": null,
            "right": null,
            "top": null,
            "visibility": null,
            "width": null
          }
        },
        "bfd2e26ed50043baba519473809fc0f8": {
          "model_module": "@jupyter-widgets/base",
          "model_module_version": "1.2.0",
          "model_name": "LayoutModel",
          "state": {
            "_model_module": "@jupyter-widgets/base",
            "_model_module_version": "1.2.0",
            "_model_name": "LayoutModel",
            "_view_count": null,
            "_view_module": "@jupyter-widgets/base",
            "_view_module_version": "1.2.0",
            "_view_name": "LayoutView",
            "align_content": null,
            "align_items": null,
            "align_self": null,
            "border": null,
            "bottom": null,
            "display": null,
            "flex": null,
            "flex_flow": null,
            "grid_area": null,
            "grid_auto_columns": null,
            "grid_auto_flow": null,
            "grid_auto_rows": null,
            "grid_column": null,
            "grid_gap": null,
            "grid_row": null,
            "grid_template_areas": null,
            "grid_template_columns": null,
            "grid_template_rows": null,
            "height": null,
            "justify_content": null,
            "justify_items": null,
            "left": null,
            "margin": null,
            "max_height": null,
            "max_width": null,
            "min_height": null,
            "min_width": null,
            "object_fit": null,
            "object_position": null,
            "order": null,
            "overflow": null,
            "overflow_x": null,
            "overflow_y": null,
            "padding": null,
            "right": null,
            "top": null,
            "visibility": "hidden",
            "width": null
          }
        },
        "c25057542cd948068ee7816e8800572d": {
          "model_module": "@jupyter-widgets/controls",
          "model_module_version": "1.5.0",
          "model_name": "DescriptionStyleModel",
          "state": {
            "_model_module": "@jupyter-widgets/controls",
            "_model_module_version": "1.5.0",
            "_model_name": "DescriptionStyleModel",
            "_view_count": null,
            "_view_module": "@jupyter-widgets/base",
            "_view_module_version": "1.2.0",
            "_view_name": "StyleView",
            "description_width": ""
          }
        },
        "c40203271eba49de96e5ef57152b91ef": {
          "model_module": "@jupyter-widgets/base",
          "model_module_version": "1.2.0",
          "model_name": "LayoutModel",
          "state": {
            "_model_module": "@jupyter-widgets/base",
            "_model_module_version": "1.2.0",
            "_model_name": "LayoutModel",
            "_view_count": null,
            "_view_module": "@jupyter-widgets/base",
            "_view_module_version": "1.2.0",
            "_view_name": "LayoutView",
            "align_content": null,
            "align_items": null,
            "align_self": null,
            "border": null,
            "bottom": null,
            "display": null,
            "flex": null,
            "flex_flow": null,
            "grid_area": null,
            "grid_auto_columns": null,
            "grid_auto_flow": null,
            "grid_auto_rows": null,
            "grid_column": null,
            "grid_gap": null,
            "grid_row": null,
            "grid_template_areas": null,
            "grid_template_columns": null,
            "grid_template_rows": null,
            "height": null,
            "justify_content": null,
            "justify_items": null,
            "left": null,
            "margin": null,
            "max_height": null,
            "max_width": null,
            "min_height": null,
            "min_width": null,
            "object_fit": null,
            "object_position": null,
            "order": null,
            "overflow": null,
            "overflow_x": null,
            "overflow_y": null,
            "padding": null,
            "right": null,
            "top": null,
            "visibility": null,
            "width": null
          }
        },
        "cfb560fb5725497e87becf5af01c43c7": {
          "model_module": "@jupyter-widgets/controls",
          "model_module_version": "1.5.0",
          "model_name": "HBoxModel",
          "state": {
            "_dom_classes": [],
            "_model_module": "@jupyter-widgets/controls",
            "_model_module_version": "1.5.0",
            "_model_name": "HBoxModel",
            "_view_count": null,
            "_view_module": "@jupyter-widgets/controls",
            "_view_module_version": "1.5.0",
            "_view_name": "HBoxView",
            "box_style": "",
            "children": [
              "IPY_MODEL_a090d371617b40f58d95724c7afa24e2",
              "IPY_MODEL_0688a81fbbf04cec9f8db8eef3c99d45",
              "IPY_MODEL_3ac4dd2deb1a4815b305e2998dd91afd"
            ],
            "layout": "IPY_MODEL_158c7ba61cc54b6fb6369321d579d86f"
          }
        },
        "d3d2a89f84f74c1ab10f9bfb2f27eed7": {
          "model_module": "@jupyter-widgets/base",
          "model_module_version": "1.2.0",
          "model_name": "LayoutModel",
          "state": {
            "_model_module": "@jupyter-widgets/base",
            "_model_module_version": "1.2.0",
            "_model_name": "LayoutModel",
            "_view_count": null,
            "_view_module": "@jupyter-widgets/base",
            "_view_module_version": "1.2.0",
            "_view_name": "LayoutView",
            "align_content": null,
            "align_items": null,
            "align_self": null,
            "border": null,
            "bottom": null,
            "display": null,
            "flex": null,
            "flex_flow": null,
            "grid_area": null,
            "grid_auto_columns": null,
            "grid_auto_flow": null,
            "grid_auto_rows": null,
            "grid_column": null,
            "grid_gap": null,
            "grid_row": null,
            "grid_template_areas": null,
            "grid_template_columns": null,
            "grid_template_rows": null,
            "height": null,
            "justify_content": null,
            "justify_items": null,
            "left": null,
            "margin": null,
            "max_height": null,
            "max_width": null,
            "min_height": null,
            "min_width": null,
            "object_fit": null,
            "object_position": null,
            "order": null,
            "overflow": null,
            "overflow_x": null,
            "overflow_y": null,
            "padding": null,
            "right": null,
            "top": null,
            "visibility": null,
            "width": null
          }
        },
        "d5f09449e2f249e39cc8df83c3b8fadb": {
          "model_module": "@jupyter-widgets/controls",
          "model_module_version": "1.5.0",
          "model_name": "FloatProgressModel",
          "state": {
            "_dom_classes": [],
            "_model_module": "@jupyter-widgets/controls",
            "_model_module_version": "1.5.0",
            "_model_name": "FloatProgressModel",
            "_view_count": null,
            "_view_module": "@jupyter-widgets/controls",
            "_view_module_version": "1.5.0",
            "_view_name": "ProgressView",
            "bar_style": "success",
            "description": "",
            "description_tooltip": null,
            "layout": "IPY_MODEL_b5371f09807f453f91532e217b43753f",
            "max": 1,
            "min": 0,
            "orientation": "horizontal",
            "style": "IPY_MODEL_83d2ac7ee17f4b259f923c0208738b39",
            "value": 1
          }
        },
        "d6fa3d85c04d485da2193d71ac9f8d71": {
          "model_module": "@jupyter-widgets/base",
          "model_module_version": "1.2.0",
          "model_name": "LayoutModel",
          "state": {
            "_model_module": "@jupyter-widgets/base",
            "_model_module_version": "1.2.0",
            "_model_name": "LayoutModel",
            "_view_count": null,
            "_view_module": "@jupyter-widgets/base",
            "_view_module_version": "1.2.0",
            "_view_name": "LayoutView",
            "align_content": null,
            "align_items": null,
            "align_self": null,
            "border": null,
            "bottom": null,
            "display": null,
            "flex": null,
            "flex_flow": null,
            "grid_area": null,
            "grid_auto_columns": null,
            "grid_auto_flow": null,
            "grid_auto_rows": null,
            "grid_column": null,
            "grid_gap": null,
            "grid_row": null,
            "grid_template_areas": null,
            "grid_template_columns": null,
            "grid_template_rows": null,
            "height": null,
            "justify_content": null,
            "justify_items": null,
            "left": null,
            "margin": null,
            "max_height": null,
            "max_width": null,
            "min_height": null,
            "min_width": null,
            "object_fit": null,
            "object_position": null,
            "order": null,
            "overflow": null,
            "overflow_x": null,
            "overflow_y": null,
            "padding": null,
            "right": null,
            "top": null,
            "visibility": null,
            "width": "20px"
          }
        },
        "df04855e552b40e491a3020d14ce8dab": {
          "model_module": "@jupyter-widgets/base",
          "model_module_version": "1.2.0",
          "model_name": "LayoutModel",
          "state": {
            "_model_module": "@jupyter-widgets/base",
            "_model_module_version": "1.2.0",
            "_model_name": "LayoutModel",
            "_view_count": null,
            "_view_module": "@jupyter-widgets/base",
            "_view_module_version": "1.2.0",
            "_view_name": "LayoutView",
            "align_content": null,
            "align_items": null,
            "align_self": null,
            "border": null,
            "bottom": null,
            "display": null,
            "flex": null,
            "flex_flow": null,
            "grid_area": null,
            "grid_auto_columns": null,
            "grid_auto_flow": null,
            "grid_auto_rows": null,
            "grid_column": null,
            "grid_gap": null,
            "grid_row": null,
            "grid_template_areas": null,
            "grid_template_columns": null,
            "grid_template_rows": null,
            "height": null,
            "justify_content": null,
            "justify_items": null,
            "left": null,
            "margin": null,
            "max_height": null,
            "max_width": null,
            "min_height": null,
            "min_width": null,
            "object_fit": null,
            "object_position": null,
            "order": null,
            "overflow": null,
            "overflow_x": null,
            "overflow_y": null,
            "padding": null,
            "right": null,
            "top": null,
            "visibility": null,
            "width": null
          }
        },
        "e03cec48856a4afdbf05840d797195be": {
          "model_module": "@jupyter-widgets/controls",
          "model_module_version": "1.5.0",
          "model_name": "HTMLModel",
          "state": {
            "_dom_classes": [],
            "_model_module": "@jupyter-widgets/controls",
            "_model_module_version": "1.5.0",
            "_model_name": "HTMLModel",
            "_view_count": null,
            "_view_module": "@jupyter-widgets/controls",
            "_view_module_version": "1.5.0",
            "_view_name": "HTMLView",
            "description": "",
            "description_tooltip": null,
            "layout": "IPY_MODEL_2bfee93d31be42b8a80e35c05905f7e7",
            "placeholder": "​",
            "style": "IPY_MODEL_c25057542cd948068ee7816e8800572d",
            "value": "Dl Size...: 100%"
          }
        },
        "e1b1e8440356436f974944562e32ca5e": {
          "model_module": "@jupyter-widgets/controls",
          "model_module_version": "1.5.0",
          "model_name": "FloatProgressModel",
          "state": {
            "_dom_classes": [],
            "_model_module": "@jupyter-widgets/controls",
            "_model_module_version": "1.5.0",
            "_model_name": "FloatProgressModel",
            "_view_count": null,
            "_view_module": "@jupyter-widgets/controls",
            "_view_module_version": "1.5.0",
            "_view_name": "ProgressView",
            "bar_style": "success",
            "description": "",
            "description_tooltip": null,
            "layout": "IPY_MODEL_29256f7f41084c0c872d6648cc1709c0",
            "max": 1,
            "min": 0,
            "orientation": "horizontal",
            "style": "IPY_MODEL_86238c0849bf4a148618bd91829d182a",
            "value": 1
          }
        },
        "e203a7848da748fda57de8fb897a1874": {
          "model_module": "@jupyter-widgets/controls",
          "model_module_version": "1.5.0",
          "model_name": "DescriptionStyleModel",
          "state": {
            "_model_module": "@jupyter-widgets/controls",
            "_model_module_version": "1.5.0",
            "_model_name": "DescriptionStyleModel",
            "_view_count": null,
            "_view_module": "@jupyter-widgets/base",
            "_view_module_version": "1.2.0",
            "_view_name": "StyleView",
            "description_width": ""
          }
        },
        "e4873ac77d924d3eb98baf44c9d93ab0": {
          "model_module": "@jupyter-widgets/controls",
          "model_module_version": "1.5.0",
          "model_name": "HBoxModel",
          "state": {
            "_dom_classes": [],
            "_model_module": "@jupyter-widgets/controls",
            "_model_module_version": "1.5.0",
            "_model_name": "HBoxModel",
            "_view_count": null,
            "_view_module": "@jupyter-widgets/controls",
            "_view_module_version": "1.5.0",
            "_view_name": "HBoxView",
            "box_style": "",
            "children": [
              "IPY_MODEL_0dc2f2f81627472eabce975f261426f3",
              "IPY_MODEL_7b5b58916baa4722a74f512fa7aa2006",
              "IPY_MODEL_f2f672899f7240649e42cb50c36a8db9"
            ],
            "layout": "IPY_MODEL_bfd2e26ed50043baba519473809fc0f8"
          }
        },
        "e57de4407e3145e8b18c8da26a02fd10": {
          "model_module": "@jupyter-widgets/controls",
          "model_module_version": "1.5.0",
          "model_name": "ProgressStyleModel",
          "state": {
            "_model_module": "@jupyter-widgets/controls",
            "_model_module_version": "1.5.0",
            "_model_name": "ProgressStyleModel",
            "_view_count": null,
            "_view_module": "@jupyter-widgets/base",
            "_view_module_version": "1.2.0",
            "_view_name": "StyleView",
            "bar_color": null,
            "description_width": ""
          }
        },
        "e8d5d1a34f2b4a04a8d1ba4a866cdf5f": {
          "model_module": "@jupyter-widgets/base",
          "model_module_version": "1.2.0",
          "model_name": "LayoutModel",
          "state": {
            "_model_module": "@jupyter-widgets/base",
            "_model_module_version": "1.2.0",
            "_model_name": "LayoutModel",
            "_view_count": null,
            "_view_module": "@jupyter-widgets/base",
            "_view_module_version": "1.2.0",
            "_view_name": "LayoutView",
            "align_content": null,
            "align_items": null,
            "align_self": null,
            "border": null,
            "bottom": null,
            "display": null,
            "flex": null,
            "flex_flow": null,
            "grid_area": null,
            "grid_auto_columns": null,
            "grid_auto_flow": null,
            "grid_auto_rows": null,
            "grid_column": null,
            "grid_gap": null,
            "grid_row": null,
            "grid_template_areas": null,
            "grid_template_columns": null,
            "grid_template_rows": null,
            "height": null,
            "justify_content": null,
            "justify_items": null,
            "left": null,
            "margin": null,
            "max_height": null,
            "max_width": null,
            "min_height": null,
            "min_width": null,
            "object_fit": null,
            "object_position": null,
            "order": null,
            "overflow": null,
            "overflow_x": null,
            "overflow_y": null,
            "padding": null,
            "right": null,
            "top": null,
            "visibility": null,
            "width": null
          }
        },
        "e8e1f98bc15349109c8b357dbed3dbd8": {
          "model_module": "@jupyter-widgets/base",
          "model_module_version": "1.2.0",
          "model_name": "LayoutModel",
          "state": {
            "_model_module": "@jupyter-widgets/base",
            "_model_module_version": "1.2.0",
            "_model_name": "LayoutModel",
            "_view_count": null,
            "_view_module": "@jupyter-widgets/base",
            "_view_module_version": "1.2.0",
            "_view_name": "LayoutView",
            "align_content": null,
            "align_items": null,
            "align_self": null,
            "border": null,
            "bottom": null,
            "display": null,
            "flex": null,
            "flex_flow": null,
            "grid_area": null,
            "grid_auto_columns": null,
            "grid_auto_flow": null,
            "grid_auto_rows": null,
            "grid_column": null,
            "grid_gap": null,
            "grid_row": null,
            "grid_template_areas": null,
            "grid_template_columns": null,
            "grid_template_rows": null,
            "height": null,
            "justify_content": null,
            "justify_items": null,
            "left": null,
            "margin": null,
            "max_height": null,
            "max_width": null,
            "min_height": null,
            "min_width": null,
            "object_fit": null,
            "object_position": null,
            "order": null,
            "overflow": null,
            "overflow_x": null,
            "overflow_y": null,
            "padding": null,
            "right": null,
            "top": null,
            "visibility": null,
            "width": null
          }
        },
        "f08afe339a5b43729d9eee8588ce0d65": {
          "model_module": "@jupyter-widgets/controls",
          "model_module_version": "1.5.0",
          "model_name": "FloatProgressModel",
          "state": {
            "_dom_classes": [],
            "_model_module": "@jupyter-widgets/controls",
            "_model_module_version": "1.5.0",
            "_model_name": "FloatProgressModel",
            "_view_count": null,
            "_view_module": "@jupyter-widgets/controls",
            "_view_module_version": "1.5.0",
            "_view_name": "ProgressView",
            "bar_style": "success",
            "description": "",
            "description_tooltip": null,
            "layout": "IPY_MODEL_d6fa3d85c04d485da2193d71ac9f8d71",
            "max": 1,
            "min": 0,
            "orientation": "horizontal",
            "style": "IPY_MODEL_e57de4407e3145e8b18c8da26a02fd10",
            "value": 1
          }
        },
        "f139e79414454efca49ceb37401b0566": {
          "model_module": "@jupyter-widgets/controls",
          "model_module_version": "1.5.0",
          "model_name": "HTMLModel",
          "state": {
            "_dom_classes": [],
            "_model_module": "@jupyter-widgets/controls",
            "_model_module_version": "1.5.0",
            "_model_name": "HTMLModel",
            "_view_count": null,
            "_view_module": "@jupyter-widgets/controls",
            "_view_module_version": "1.5.0",
            "_view_name": "HTMLView",
            "description": "",
            "description_tooltip": null,
            "layout": "IPY_MODEL_ad91b011311d4a93a681523ccdae7538",
            "placeholder": "​",
            "style": "IPY_MODEL_42ccc9322e344550ac83c202de436c56",
            "value": "Shuffling ~/tensorflow_datasets/eurosat/rgb/2.0.0.incompleteVYOGR3/eurosat-train.tfrecord*...:  87%"
          }
        },
        "f2918b5e92884c3da4152e7197af9196": {
          "model_module": "@jupyter-widgets/controls",
          "model_module_version": "1.5.0",
          "model_name": "DescriptionStyleModel",
          "state": {
            "_model_module": "@jupyter-widgets/controls",
            "_model_module_version": "1.5.0",
            "_model_name": "DescriptionStyleModel",
            "_view_count": null,
            "_view_module": "@jupyter-widgets/base",
            "_view_module_version": "1.2.0",
            "_view_name": "StyleView",
            "description_width": ""
          }
        },
        "f2f672899f7240649e42cb50c36a8db9": {
          "model_module": "@jupyter-widgets/controls",
          "model_module_version": "1.5.0",
          "model_name": "HTMLModel",
          "state": {
            "_dom_classes": [],
            "_model_module": "@jupyter-widgets/controls",
            "_model_module_version": "1.5.0",
            "_model_name": "HTMLModel",
            "_view_count": null,
            "_view_module": "@jupyter-widgets/controls",
            "_view_module_version": "1.5.0",
            "_view_name": "HTMLView",
            "description": "",
            "description_tooltip": null,
            "layout": "IPY_MODEL_74abf9d7858b46b9afdc14d6ef2777f5",
            "placeholder": "​",
            "style": "IPY_MODEL_61cba1817a70473ba0ee7fd0cfc7d3da",
            "value": " 1/1 [00:10&lt;00:00, 10.68s/ splits]"
          }
        },
        "f6ceb1675c75479c8619af4b7a993b59": {
          "model_module": "@jupyter-widgets/base",
          "model_module_version": "1.2.0",
          "model_name": "LayoutModel",
          "state": {
            "_model_module": "@jupyter-widgets/base",
            "_model_module_version": "1.2.0",
            "_model_name": "LayoutModel",
            "_view_count": null,
            "_view_module": "@jupyter-widgets/base",
            "_view_module_version": "1.2.0",
            "_view_name": "LayoutView",
            "align_content": null,
            "align_items": null,
            "align_self": null,
            "border": null,
            "bottom": null,
            "display": null,
            "flex": null,
            "flex_flow": null,
            "grid_area": null,
            "grid_auto_columns": null,
            "grid_auto_flow": null,
            "grid_auto_rows": null,
            "grid_column": null,
            "grid_gap": null,
            "grid_row": null,
            "grid_template_areas": null,
            "grid_template_columns": null,
            "grid_template_rows": null,
            "height": null,
            "justify_content": null,
            "justify_items": null,
            "left": null,
            "margin": null,
            "max_height": null,
            "max_width": null,
            "min_height": null,
            "min_width": null,
            "object_fit": null,
            "object_position": null,
            "order": null,
            "overflow": null,
            "overflow_x": null,
            "overflow_y": null,
            "padding": null,
            "right": null,
            "top": null,
            "visibility": null,
            "width": null
          }
        },
        "f75eaf66a8d94975bdc3efb5007dd5f2": {
          "model_module": "@jupyter-widgets/base",
          "model_module_version": "1.2.0",
          "model_name": "LayoutModel",
          "state": {
            "_model_module": "@jupyter-widgets/base",
            "_model_module_version": "1.2.0",
            "_model_name": "LayoutModel",
            "_view_count": null,
            "_view_module": "@jupyter-widgets/base",
            "_view_module_version": "1.2.0",
            "_view_name": "LayoutView",
            "align_content": null,
            "align_items": null,
            "align_self": null,
            "border": null,
            "bottom": null,
            "display": null,
            "flex": null,
            "flex_flow": null,
            "grid_area": null,
            "grid_auto_columns": null,
            "grid_auto_flow": null,
            "grid_auto_rows": null,
            "grid_column": null,
            "grid_gap": null,
            "grid_row": null,
            "grid_template_areas": null,
            "grid_template_columns": null,
            "grid_template_rows": null,
            "height": null,
            "justify_content": null,
            "justify_items": null,
            "left": null,
            "margin": null,
            "max_height": null,
            "max_width": null,
            "min_height": null,
            "min_width": null,
            "object_fit": null,
            "object_position": null,
            "order": null,
            "overflow": null,
            "overflow_x": null,
            "overflow_y": null,
            "padding": null,
            "right": null,
            "top": null,
            "visibility": null,
            "width": null
          }
        },
        "fd67aae2c89a4d6e97e255c108d4cd70": {
          "model_module": "@jupyter-widgets/controls",
          "model_module_version": "1.5.0",
          "model_name": "HTMLModel",
          "state": {
            "_dom_classes": [],
            "_model_module": "@jupyter-widgets/controls",
            "_model_module_version": "1.5.0",
            "_model_name": "HTMLModel",
            "_view_count": null,
            "_view_module": "@jupyter-widgets/controls",
            "_view_module_version": "1.5.0",
            "_view_name": "HTMLView",
            "description": "",
            "description_tooltip": null,
            "layout": "IPY_MODEL_b686bb8c87e64ef591705c4376e3efcc",
            "placeholder": "​",
            "style": "IPY_MODEL_a4845b6a31af47b5be8d24810e601b37",
            "value": "Extraction completed...: 100%"
          }
        }
      }
    }
  },
  "nbformat": 4,
  "nbformat_minor": 0
}
